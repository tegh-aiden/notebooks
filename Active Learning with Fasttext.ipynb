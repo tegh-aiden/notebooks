{
 "cells": [
  {
   "cell_type": "code",
   "execution_count": 1,
   "id": "981fa2ee",
   "metadata": {},
   "outputs": [],
   "source": [
    "import nltk\n",
    "import pandas as pd\n",
    "import tensorflow as tf\n",
    "import numpy as np\n",
    "import sklearn\n",
    "import langid\n",
    "import matplotlib.pyplot as plt\n",
    "import fasttext"
   ]
  },
  {
   "cell_type": "code",
   "execution_count": 2,
   "id": "83f2b305",
   "metadata": {},
   "outputs": [],
   "source": [
    "from nltk.tokenize import word_tokenize\n",
    "from nltk.corpus import stopwords\n",
    "from nltk.stem.snowball import EnglishStemmer, SpanishStemmer"
   ]
  },
  {
   "cell_type": "code",
   "execution_count": 3,
   "id": "aea6e5ef",
   "metadata": {},
   "outputs": [],
   "source": [
    "#Load documents in fasttext format\n",
    "raw_train = \"C:\\\\Users\\\\Tegh\\\\fasttext\\\\amazon_reviews\\\\train.ft.txt\"\n",
    "raw_test = \"C:\\\\Users\\\\Tegh\\\\fasttext\\\\amazon_reviews\\\\test.ft.txt\""
   ]
  },
  {
   "cell_type": "code",
   "execution_count": 4,
   "id": "12255e53",
   "metadata": {},
   "outputs": [],
   "source": [
    "langid.set_languages(['en','es'])  # ISO 639-1 codes\n",
    "EngStemmer = EnglishStemmer()\n",
    "EngStops = set(stopwords.words('english'))\n",
    "\n",
    "EspStemmer = SpanishStemmer()\n",
    "EspStops = set(stopwords.words('spanish'))"
   ]
  },
  {
   "cell_type": "code",
   "execution_count": null,
   "id": "ab0deb94",
   "metadata": {},
   "outputs": [],
   "source": [
    "from tqdm import tqdm.notebook.tqdm as tqdm\n",
    "import mmap\n",
    "\n",
    "def get_num_lines(file_path):\n",
    "    fp = open(file_path, \"r+\")\n",
    "    buf = mmap.mmap(fp.fileno(), 0)\n",
    "    lines = 0\n",
    "    while buf.readline():\n",
    "        lines += 1\n",
    "    return lines"
   ]
  },
  {
   "cell_type": "code",
   "execution_count": 25,
   "id": "8a19824e",
   "metadata": {},
   "outputs": [
    {
     "name": "stderr",
     "output_type": "stream",
     "text": [
      "100%|██████████████████████████████████████████████████████████████████████████████████████████████████████████████████▊| 3594045/3600000 [1:48:20<00:10, 552.86it/s]"
     ]
    },
    {
     "name": "stdout",
     "output_type": "stream",
     "text": [
      "Exceptions in train set: 331\n"
     ]
    },
    {
     "name": "stderr",
     "output_type": "stream",
     "text": [
      "\n"
     ]
    }
   ],
   "source": [
    "#Expect precision and recall of 0.916 if all is in order for full train\n",
    "#Throwout reviews with encoding errors\n",
    "\n",
    "count = 0\n",
    "f_train = open(raw_train, 'r')\n",
    "out_train = open('C:\\\\Users\\\\Tegh\\\\fasttext\\\\amazon_reviews\\\\out_train.txt', 'w')\n",
    "\n",
    "for i in tqdm(range(get_num_lines(raw_train))):\n",
    "    try:\n",
    "        line = f_train.readline()\n",
    "        lang = langid.classify(line)[0]\n",
    "        if not line:\n",
    "            break\n",
    "        line = line.split(\" \", 1)\n",
    "        line[1] = word_tokenize(line[1])\n",
    "        if lang == 'en':\n",
    "            line[1] = \" \".join([EngStemmer.stem(w) for w in line[1] if (w.isalpha() and w not in EngStops)])\n",
    "        else:\n",
    "            line[1] = \" \".join([EspStemmer.stem(w) for w in line[1] if (w.isalpha() and w not in EspStops)])\n",
    "        out_train.write(line[0] + \" \" + line[1] + \"\\n\")\n",
    "    except Exception as e:\n",
    "        count += 1\n",
    "        continue\n",
    "f_train.close()\n",
    "out_train.close()\n",
    "print(\"Exceptions in train set: \" + str(count))"
   ]
  },
  {
   "cell_type": "code",
   "execution_count": 26,
   "id": "a35cce1c",
   "metadata": {},
   "outputs": [
    {
     "name": "stderr",
     "output_type": "stream",
     "text": [
      "100%|████████████████████████████████████████████████████████████████████████████████████████████████████████████████████████▊| 399395/400000 [11:47<00:01, 564.66it/s]"
     ]
    },
    {
     "name": "stdout",
     "output_type": "stream",
     "text": [
      "Exceptions in train set: 37\n"
     ]
    },
    {
     "name": "stderr",
     "output_type": "stream",
     "text": [
      "\n"
     ]
    }
   ],
   "source": [
    "count = 0\n",
    "f_test = open(raw_test, 'r')\n",
    "out_test = open('C:\\\\Users\\\\Tegh\\\\fasttext\\\\amazon_reviews\\\\out_test.txt', 'w')\n",
    "\n",
    "for i in tqdm(range(get_num_lines(raw_test))):\n",
    "    try:\n",
    "        line = f_test.readline()\n",
    "        lang = langid.classify(line)[0]\n",
    "        if not line:\n",
    "            break\n",
    "        line = line.split(\" \", 1)\n",
    "        line[1] = word_tokenize(line[1])\n",
    "        if lang == 'en':\n",
    "            line[1] = \" \".join([EngStemmer.stem(w) for w in line[1] if (w.isalpha() and w not in EngStops)])\n",
    "        else:\n",
    "            line[1] = \" \".join([EspStemmer.stem(w) for w in line[1] if (w.isalpha() and w not in EspStops)])\n",
    "        out_test.write(line[0] + \" \" + line[1] + \"\\n\")\n",
    "    except Exception as e:\n",
    "        count += 1\n",
    "        continue\n",
    "f_test.close()\n",
    "out_test.close()\n",
    "print(\"Exceptions in train set: \" + str(count))"
   ]
  },
  {
   "cell_type": "code",
   "execution_count": 28,
   "id": "de8e92e7",
   "metadata": {},
   "outputs": [],
   "source": [
    "f_train = \"C:\\\\Users\\\\Tegh\\\\fasttext\\\\amazon_reviews\\\\out_train.txt\"\n",
    "model = fasttext.train_supervised(input=f_train, dim=25, wordNgrams=2, epoch=10, lr=0.01)"
   ]
  },
  {
   "cell_type": "code",
   "execution_count": 29,
   "id": "3d290d83",
   "metadata": {},
   "outputs": [],
   "source": [
    "model.save_model(\"C:\\\\Users\\\\Tegh\\\\fasttext\\\\amazon_reviews\\\\full_train.bin\")"
   ]
  },
  {
   "cell_type": "code",
   "execution_count": 50,
   "id": "03b6fcb5",
   "metadata": {},
   "outputs": [
    {
     "ename": "NameError",
     "evalue": "name 'model' is not defined",
     "output_type": "error",
     "traceback": [
      "\u001b[1;31m---------------------------------------------------------------------------\u001b[0m",
      "\u001b[1;31mNameError\u001b[0m                                 Traceback (most recent call last)",
      "\u001b[1;32m<ipython-input-50-b3c4d0329d1f>\u001b[0m in \u001b[0;36m<module>\u001b[1;34m\u001b[0m\n\u001b[0;32m      6\u001b[0m     \u001b[1;32mreturn\u001b[0m \u001b[0mp\u001b[0m\u001b[1;33m\u001b[0m\u001b[1;33m\u001b[0m\u001b[0m\n\u001b[0;32m      7\u001b[0m \u001b[1;33m\u001b[0m\u001b[0m\n\u001b[1;32m----> 8\u001b[1;33m \u001b[0mprint_results\u001b[0m\u001b[1;33m(\u001b[0m\u001b[1;33m*\u001b[0m\u001b[0mmodel\u001b[0m\u001b[1;33m.\u001b[0m\u001b[0mtest\u001b[0m\u001b[1;33m(\u001b[0m\u001b[0mf_test\u001b[0m\u001b[1;33m)\u001b[0m\u001b[1;33m)\u001b[0m\u001b[1;33m\u001b[0m\u001b[1;33m\u001b[0m\u001b[0m\n\u001b[0m",
      "\u001b[1;31mNameError\u001b[0m: name 'model' is not defined"
     ]
    }
   ],
   "source": [
    "f_test = \"C:\\\\Users\\\\Tegh\\\\fasttext\\\\amazon_reviews\\\\out_test.txt\"\n",
    "\n",
    "def print_results(N, p, r):\n",
    "    print(\"N\\t\" + str(N))\n",
    "    print(\"P@{}\\t{:.3f}\".format(1, p))\n",
    "    return p\n",
    "\n",
    "print_results(*model.test(f_test))"
   ]
  },
  {
   "cell_type": "code",
   "execution_count": 111,
   "id": "d51e95f8",
   "metadata": {},
   "outputs": [],
   "source": [
    "def randSample(n, pct_acq, pct_del = 0):\n",
    "    x = int((pct_acq + pct_del) * n)\n",
    "    return np.random.choice(n, x, replace=False)\n",
    "\n",
    "def dropout(X, pct_acq, pct_del):\n",
    "    n = int(pct_acq / (pct_acq + pct_del) * len(X))\n",
    "    indices = np.random.choice(len(X), n, replace=False)\n",
    "    return [X[i] for i in indices]"
   ]
  },
  {
   "cell_type": "code",
   "execution_count": 33,
   "id": "675657ac",
   "metadata": {},
   "outputs": [],
   "source": [
    "def entropy(y_probs):\n",
    "    return -1.0 * np.sum(y_probs * np.log(y_probs + np.finfo(float).eps)) / np.log(y_probs.size)\n",
    "    \n",
    "def least_confidence(y_probs):\n",
    "    return y_probs.size * (1 - np.nanmax(y_probs)) / (y_probs.size - 1)"
   ]
  },
  {
   "cell_type": "code",
   "execution_count": 47,
   "id": "924686a1",
   "metadata": {},
   "outputs": [
    {
     "name": "stdout",
     "output_type": "stream",
     "text": [
      "[['__label__2'\n",
      "  'stune even this sound track beauti it paint seneri mind well i would recomend even peopl hate vid game music i play game chrono cross game i ever play best music it back away crude keyboard take fresher step grate guitar soul orchestra it would impress anyon care listen']\n",
      " ['__label__2'\n",
      "  'the best soundtrack ever anyth i read lot review say best soundtrack i figur i write review disagre bit this opinino yasunori mitsuda ultim masterpiec the music timeless i listen year beauti simpli refus price tag pretti stagger i must say go buy cd much money one i feel would worth everi penni']\n",
      " ['__label__2'\n",
      "  'amaz this soundtrack favorit music time hand the intens sad prison fate mean play game hope a distant promis girl stole star import inspir person throughout teen year the higher energi track like chrono cross time time dreamwatch chronomantiqu indefin remenisc chrono trigger absolut superb soundtrack amaz music probabl best compos work i heard xenogear soundtrack i ca say sure even never play game would worth twice price buy wish i could give star']\n",
      " ['__label__2'\n",
      "  'excel soundtrack i truli like soundtrack i enjoy video game music i play game music i enjoy truli relax disk one favorit scar of time between life death forest of illus fortress ancient dragon lost fragment drown two the draggon galdorb home chronomantiqu prison fate gale girlfriend like zelbessdisk three the best three garden of god chronopoli fate jellyfish sea burn orphang dragon prayer tower of star dragon god radic dreamer unsteal excel soundtrack brought like video game cross']\n",
      " ['__label__2'\n",
      "  'rememb pull your jaw off the floor after hear if play game know divin music everi singl song tell stori game good the greatest song without doubt chrono cross time scar magic dreamer the wind the star sea radic dreamer unstolen jewel translat vari this music perfect ask best yasunori mitsuda pour heart wrote paper']]\n"
     ]
    }
   ],
   "source": [
    "with open(f_train, \"r\") as f:\n",
    "    train_arr = np.array([s.rstrip(\"\\n\").split(\" \", 1) for s in f.readlines()])\n",
    "f.close()\n",
    "print(train_arr[:5])"
   ]
  },
  {
   "cell_type": "code",
   "execution_count": 61,
   "id": "8ecfa842",
   "metadata": {},
   "outputs": [
    {
     "name": "stdout",
     "output_type": "stream",
     "text": [
      "        Label                      Text  L1_Prediction  L2_Prediction  Entropy\n",
      "0  __label__2  stune even this sound...            NaN            NaN      NaN\n",
      "1  __label__2  the best soundtrack e...            NaN            NaN      NaN\n",
      "2  __label__2  amaz this soundtrack ...            NaN            NaN      NaN\n",
      "3  __label__2  excel soundtrack i tr...            NaN            NaN      NaN\n",
      "4  __label__2  rememb pull your jaw ...            NaN            NaN      NaN\n"
     ]
    }
   ],
   "source": [
    "# df = pd.DataFrame(train_arr, columns = ['Label', 'Text'])\n",
    "# df = df.reindex(columns = df.columns.tolist() + ['L1_Prediction', 'L2_Prediction', 'Entropy'])\n",
    "# pd.options.display.max_colwidth = 25\n",
    "# print(df.head())"
   ]
  },
  {
   "cell_type": "code",
   "execution_count": 129,
   "id": "dd7b1534",
   "metadata": {},
   "outputs": [],
   "source": [
    "import fasttext"
   ]
  },
  {
   "cell_type": "code",
   "execution_count": 162,
   "id": "81870a10",
   "metadata": {},
   "outputs": [],
   "source": [
    "def AL_fasttext(train_arr, iters, pct_acq, out_dir, metric = 'entropy', pct_del = 0):\n",
    "    results = list()\n",
    "    n = len(train_arr)\n",
    "    # Write initial random sample to a txt\n",
    "    X = [train_arr[i] for i in np.random.choice(n, int(pct_acq * n), replace=False)]\n",
    "    with open(out_dir, 'w') as f:\n",
    "        for line in X:\n",
    "            f.write(line[0] + \" \" + line[1] + \"\\n\")\n",
    "    f.close()\n",
    "    # Train on random sample\n",
    "    model = fasttext.train_supervised(input=out_dir, dim=25, wordNgrams=2, epoch=10, lr=0.01)\n",
    "    for itr in tqdm(range(iters)):\n",
    "        print(\"Predicting...\")\n",
    "        if metric == 'entropy':\n",
    "            for doc in tqdm(train_arr):\n",
    "                predictions = [entropy(model.predict(doc[1], k=2)[1])]\n",
    "        elif metric == 'LC':\n",
    "            for doc in tqdm(train_arr):\n",
    "                predictions = [least_confidence(model.predict(doc[1], k=2)[1])]\n",
    "        print(\"Predictions Complete\")\n",
    "        predictions = np.array(predictions).sort(kind='mergesort')\n",
    "        start = int(pct_del * n)\n",
    "        end = int((pct_del + pct_acq) * n)\n",
    "        subX = train_arr[start:end]\n",
    "        # Append new docs to txt file\n",
    "        with open(out_dir, 'a') as f:\n",
    "            for line in subX:\n",
    "                f.write(line[0] + \" \" + line[1] + \"\\n\")\n",
    "        f.close()\n",
    "        print(\"Training Batch \" + str(itr) +\"...\")\n",
    "        model = fasttext.train_supervised(input=out_dir, dim=25, wordNgrams=2, epoch=10, lr=0.01)\n",
    "        model.save_model(subdir + \"model_\" + str(itr) + \".bin\")\n",
    "        p = *model.test(f_test)\n",
    "        results.append(p)\n",
    "        print_results(p)\n",
    "        print(\"Training Complete\")\n",
    "    return results"
   ]
  },
  {
   "cell_type": "code",
   "execution_count": 166,
   "id": "22e7278c",
   "metadata": {},
   "outputs": [
    {
     "name": "stderr",
     "output_type": "stream",
     "text": [
      "c:\\users\\tegh\\appdata\\local\\programs\\python\\python37\\lib\\site-packages\\ipykernel_launcher.py:12: TqdmDeprecationWarning: This function will be removed in tqdm==5.0.0\n",
      "Please use `tqdm.notebook.tqdm` instead of `tqdm.tqdm_notebook`\n",
      "  if sys.path[0] == '':\n"
     ]
    },
    {
     "data": {
      "application/vnd.jupyter.widget-view+json": {
       "model_id": "49d46630876746ad8e51cff021dda56c",
       "version_major": 2,
       "version_minor": 0
      },
      "text/plain": [
       "  0%|          | 0/9 [00:00<?, ?it/s]"
      ]
     },
     "metadata": {},
     "output_type": "display_data"
    },
    {
     "name": "stdout",
     "output_type": "stream",
     "text": [
      "Predicting...\n"
     ]
    },
    {
     "name": "stderr",
     "output_type": "stream",
     "text": [
      "c:\\users\\tegh\\appdata\\local\\programs\\python\\python37\\lib\\site-packages\\ipykernel_launcher.py:15: TqdmDeprecationWarning: This function will be removed in tqdm==5.0.0\n",
      "Please use `tqdm.notebook.tqdm` instead of `tqdm.tqdm_notebook`\n",
      "  from ipykernel import kernelapp as app\n"
     ]
    },
    {
     "data": {
      "application/vnd.jupyter.widget-view+json": {
       "model_id": "288547ca4ab34482bd2a69319599e16d",
       "version_major": 2,
       "version_minor": 0
      },
      "text/plain": [
       "  0%|          | 0/3593714 [00:00<?, ?it/s]"
      ]
     },
     "metadata": {},
     "output_type": "display_data"
    },
    {
     "name": "stdout",
     "output_type": "stream",
     "text": [
      "Predictions Complete\n",
      "Training Batch 0...\n",
      "N\t399325\n",
      "P@1\t0.875\n",
      "Training Complete\n",
      "Predicting...\n"
     ]
    },
    {
     "data": {
      "application/vnd.jupyter.widget-view+json": {
       "model_id": "0338f6376d114ea3859f7c0ed8a951a6",
       "version_major": 2,
       "version_minor": 0
      },
      "text/plain": [
       "  0%|          | 0/3593714 [00:00<?, ?it/s]"
      ]
     },
     "metadata": {},
     "output_type": "display_data"
    },
    {
     "name": "stdout",
     "output_type": "stream",
     "text": [
      "Predictions Complete\n",
      "Training Batch 1...\n",
      "N\t399325\n",
      "P@1\t0.884\n",
      "Training Complete\n",
      "Predicting...\n"
     ]
    },
    {
     "data": {
      "application/vnd.jupyter.widget-view+json": {
       "model_id": "e7155a873b6344a78c84f6aa0b2b62dc",
       "version_major": 2,
       "version_minor": 0
      },
      "text/plain": [
       "  0%|          | 0/3593714 [00:00<?, ?it/s]"
      ]
     },
     "metadata": {},
     "output_type": "display_data"
    },
    {
     "name": "stdout",
     "output_type": "stream",
     "text": [
      "Predictions Complete\n",
      "Training Batch 2...\n",
      "N\t399325\n",
      "P@1\t0.888\n",
      "Training Complete\n",
      "Predicting...\n"
     ]
    },
    {
     "data": {
      "application/vnd.jupyter.widget-view+json": {
       "model_id": "297936727e564ce8bfc76bb4dc503664",
       "version_major": 2,
       "version_minor": 0
      },
      "text/plain": [
       "  0%|          | 0/3593714 [00:00<?, ?it/s]"
      ]
     },
     "metadata": {},
     "output_type": "display_data"
    },
    {
     "name": "stdout",
     "output_type": "stream",
     "text": [
      "Predictions Complete\n",
      "Training Batch 3...\n",
      "N\t399325\n",
      "P@1\t0.890\n",
      "Training Complete\n",
      "Predicting...\n"
     ]
    },
    {
     "data": {
      "application/vnd.jupyter.widget-view+json": {
       "model_id": "c78c84ea71b04374a273869ca0702dc1",
       "version_major": 2,
       "version_minor": 0
      },
      "text/plain": [
       "  0%|          | 0/3593714 [00:00<?, ?it/s]"
      ]
     },
     "metadata": {},
     "output_type": "display_data"
    },
    {
     "name": "stdout",
     "output_type": "stream",
     "text": [
      "Predictions Complete\n",
      "Training Batch 4...\n",
      "N\t399325\n",
      "P@1\t0.891\n",
      "Training Complete\n",
      "Predicting...\n"
     ]
    },
    {
     "data": {
      "application/vnd.jupyter.widget-view+json": {
       "model_id": "53e7639d1f3b4d49b9d09ea64f6067c5",
       "version_major": 2,
       "version_minor": 0
      },
      "text/plain": [
       "  0%|          | 0/3593714 [00:00<?, ?it/s]"
      ]
     },
     "metadata": {},
     "output_type": "display_data"
    },
    {
     "name": "stdout",
     "output_type": "stream",
     "text": [
      "Predictions Complete\n",
      "Training Batch 5...\n",
      "N\t399325\n",
      "P@1\t0.892\n",
      "Training Complete\n",
      "Predicting...\n"
     ]
    },
    {
     "data": {
      "application/vnd.jupyter.widget-view+json": {
       "model_id": "20025330705f4017a93059a224066e35",
       "version_major": 2,
       "version_minor": 0
      },
      "text/plain": [
       "  0%|          | 0/3593714 [00:00<?, ?it/s]"
      ]
     },
     "metadata": {},
     "output_type": "display_data"
    },
    {
     "name": "stdout",
     "output_type": "stream",
     "text": [
      "Predictions Complete\n",
      "Training Batch 6...\n",
      "N\t399325\n",
      "P@1\t0.892\n",
      "Training Complete\n",
      "Predicting...\n"
     ]
    },
    {
     "data": {
      "application/vnd.jupyter.widget-view+json": {
       "model_id": "736d8687a4ac4324acc0e938c578041e",
       "version_major": 2,
       "version_minor": 0
      },
      "text/plain": [
       "  0%|          | 0/3593714 [00:00<?, ?it/s]"
      ]
     },
     "metadata": {},
     "output_type": "display_data"
    },
    {
     "name": "stdout",
     "output_type": "stream",
     "text": [
      "Predictions Complete\n",
      "Training Batch 7...\n",
      "N\t399325\n",
      "P@1\t0.892\n",
      "Training Complete\n",
      "Predicting...\n"
     ]
    },
    {
     "data": {
      "application/vnd.jupyter.widget-view+json": {
       "model_id": "185be1ece2e54a2b82a6f95549106eda",
       "version_major": 2,
       "version_minor": 0
      },
      "text/plain": [
       "  0%|          | 0/3593714 [00:00<?, ?it/s]"
      ]
     },
     "metadata": {},
     "output_type": "display_data"
    },
    {
     "name": "stdout",
     "output_type": "stream",
     "text": [
      "Predictions Complete\n",
      "Training Batch 8...\n",
      "N\t399325\n",
      "P@1\t0.892\n",
      "Training Complete\n"
     ]
    },
    {
     "data": {
      "application/vnd.jupyter.widget-view+json": {
       "model_id": "491f2bd93b1c49e191757c0596db8c14",
       "version_major": 2,
       "version_minor": 0
      },
      "text/plain": [
       "  0%|          | 0/9 [00:00<?, ?it/s]"
      ]
     },
     "metadata": {},
     "output_type": "display_data"
    },
    {
     "name": "stdout",
     "output_type": "stream",
     "text": [
      "Predicting...\n"
     ]
    },
    {
     "data": {
      "application/vnd.jupyter.widget-view+json": {
       "model_id": "2b1797fe11a04919a79c2cfa7fddee75",
       "version_major": 2,
       "version_minor": 0
      },
      "text/plain": [
       "  0%|          | 0/3593714 [00:00<?, ?it/s]"
      ]
     },
     "metadata": {},
     "output_type": "display_data"
    },
    {
     "name": "stdout",
     "output_type": "stream",
     "text": [
      "Predictions Complete\n",
      "Training Batch 0...\n",
      "N\t399325\n",
      "P@1\t0.875\n",
      "Training Complete\n",
      "Predicting...\n"
     ]
    },
    {
     "data": {
      "application/vnd.jupyter.widget-view+json": {
       "model_id": "4e9d34e7fcf244d58bcb58e49c4597e3",
       "version_major": 2,
       "version_minor": 0
      },
      "text/plain": [
       "  0%|          | 0/3593714 [00:00<?, ?it/s]"
      ]
     },
     "metadata": {},
     "output_type": "display_data"
    },
    {
     "name": "stdout",
     "output_type": "stream",
     "text": [
      "Predictions Complete\n",
      "Training Batch 1...\n",
      "N\t399325\n",
      "P@1\t0.885\n",
      "Training Complete\n",
      "Predicting...\n"
     ]
    },
    {
     "data": {
      "application/vnd.jupyter.widget-view+json": {
       "model_id": "00b15c27f1534b1d8fbb1cef95921db6",
       "version_major": 2,
       "version_minor": 0
      },
      "text/plain": [
       "  0%|          | 0/3593714 [00:00<?, ?it/s]"
      ]
     },
     "metadata": {},
     "output_type": "display_data"
    },
    {
     "name": "stdout",
     "output_type": "stream",
     "text": [
      "Predictions Complete\n",
      "Training Batch 2...\n",
      "N\t399325\n",
      "P@1\t0.888\n",
      "Training Complete\n",
      "Predicting...\n"
     ]
    },
    {
     "data": {
      "application/vnd.jupyter.widget-view+json": {
       "model_id": "dda3789d63984cf899f9fa375ca01a6b",
       "version_major": 2,
       "version_minor": 0
      },
      "text/plain": [
       "  0%|          | 0/3593714 [00:00<?, ?it/s]"
      ]
     },
     "metadata": {},
     "output_type": "display_data"
    },
    {
     "name": "stdout",
     "output_type": "stream",
     "text": [
      "Predictions Complete\n",
      "Training Batch 3...\n",
      "N\t399325\n",
      "P@1\t0.891\n",
      "Training Complete\n",
      "Predicting...\n"
     ]
    },
    {
     "data": {
      "application/vnd.jupyter.widget-view+json": {
       "model_id": "13e7132ab4614a3f9320c8104a58948f",
       "version_major": 2,
       "version_minor": 0
      },
      "text/plain": [
       "  0%|          | 0/3593714 [00:00<?, ?it/s]"
      ]
     },
     "metadata": {},
     "output_type": "display_data"
    },
    {
     "name": "stdout",
     "output_type": "stream",
     "text": [
      "Predictions Complete\n",
      "Training Batch 4...\n",
      "N\t399325\n",
      "P@1\t0.891\n",
      "Training Complete\n",
      "Predicting...\n"
     ]
    },
    {
     "data": {
      "application/vnd.jupyter.widget-view+json": {
       "model_id": "b9b9c2bdae8d4240958223cbee226e9e",
       "version_major": 2,
       "version_minor": 0
      },
      "text/plain": [
       "  0%|          | 0/3593714 [00:00<?, ?it/s]"
      ]
     },
     "metadata": {},
     "output_type": "display_data"
    },
    {
     "name": "stdout",
     "output_type": "stream",
     "text": [
      "Predictions Complete\n",
      "Training Batch 5...\n",
      "N\t399325\n",
      "P@1\t0.891\n",
      "Training Complete\n",
      "Predicting...\n"
     ]
    },
    {
     "data": {
      "application/vnd.jupyter.widget-view+json": {
       "model_id": "f31d24a8484b401b8066566047cc8a60",
       "version_major": 2,
       "version_minor": 0
      },
      "text/plain": [
       "  0%|          | 0/3593714 [00:00<?, ?it/s]"
      ]
     },
     "metadata": {},
     "output_type": "display_data"
    },
    {
     "name": "stdout",
     "output_type": "stream",
     "text": [
      "Predictions Complete\n",
      "Training Batch 6...\n",
      "N\t399325\n",
      "P@1\t0.892\n",
      "Training Complete\n",
      "Predicting...\n"
     ]
    },
    {
     "data": {
      "application/vnd.jupyter.widget-view+json": {
       "model_id": "e047d0c578744a849ed7ecc345cdf3ce",
       "version_major": 2,
       "version_minor": 0
      },
      "text/plain": [
       "  0%|          | 0/3593714 [00:00<?, ?it/s]"
      ]
     },
     "metadata": {},
     "output_type": "display_data"
    },
    {
     "name": "stdout",
     "output_type": "stream",
     "text": [
      "Predictions Complete\n",
      "Training Batch 7...\n",
      "N\t399325\n",
      "P@1\t0.892\n",
      "Training Complete\n",
      "Predicting...\n"
     ]
    },
    {
     "data": {
      "application/vnd.jupyter.widget-view+json": {
       "model_id": "a7cd790fee424cd490088964e0f1e686",
       "version_major": 2,
       "version_minor": 0
      },
      "text/plain": [
       "  0%|          | 0/3593714 [00:00<?, ?it/s]"
      ]
     },
     "metadata": {},
     "output_type": "display_data"
    },
    {
     "name": "stdout",
     "output_type": "stream",
     "text": [
      "Predictions Complete\n",
      "Training Batch 8...\n",
      "N\t399325\n",
      "P@1\t0.892\n",
      "Training Complete\n"
     ]
    },
    {
     "data": {
      "application/vnd.jupyter.widget-view+json": {
       "model_id": "9f338c7921a8405c83122d2e41b03465",
       "version_major": 2,
       "version_minor": 0
      },
      "text/plain": [
       "  0%|          | 0/9 [00:00<?, ?it/s]"
      ]
     },
     "metadata": {},
     "output_type": "display_data"
    },
    {
     "name": "stdout",
     "output_type": "stream",
     "text": [
      "Predicting...\n"
     ]
    },
    {
     "data": {
      "application/vnd.jupyter.widget-view+json": {
       "model_id": "98072e2fa06047449253c9916c8ca739",
       "version_major": 2,
       "version_minor": 0
      },
      "text/plain": [
       "  0%|          | 0/3593714 [00:00<?, ?it/s]"
      ]
     },
     "metadata": {},
     "output_type": "display_data"
    },
    {
     "name": "stdout",
     "output_type": "stream",
     "text": [
      "Predictions Complete\n",
      "Training Batch 0...\n",
      "N\t399325\n",
      "P@1\t0.875\n",
      "Training Complete\n",
      "Predicting...\n"
     ]
    },
    {
     "data": {
      "application/vnd.jupyter.widget-view+json": {
       "model_id": "4f7097a65cab4792babde65b2cdd01b6",
       "version_major": 2,
       "version_minor": 0
      },
      "text/plain": [
       "  0%|          | 0/3593714 [00:00<?, ?it/s]"
      ]
     },
     "metadata": {},
     "output_type": "display_data"
    },
    {
     "name": "stdout",
     "output_type": "stream",
     "text": [
      "Predictions Complete\n",
      "Training Batch 1...\n",
      "N\t399325\n",
      "P@1\t0.884\n",
      "Training Complete\n",
      "Predicting...\n"
     ]
    },
    {
     "data": {
      "application/vnd.jupyter.widget-view+json": {
       "model_id": "c579c18be3d349e39a6ef2f95a067a07",
       "version_major": 2,
       "version_minor": 0
      },
      "text/plain": [
       "  0%|          | 0/3593714 [00:00<?, ?it/s]"
      ]
     },
     "metadata": {},
     "output_type": "display_data"
    },
    {
     "name": "stdout",
     "output_type": "stream",
     "text": [
      "Predictions Complete\n",
      "Training Batch 2...\n",
      "N\t399325\n",
      "P@1\t0.888\n",
      "Training Complete\n",
      "Predicting...\n"
     ]
    },
    {
     "data": {
      "application/vnd.jupyter.widget-view+json": {
       "model_id": "5be8cb4e61cc4a8db64bcbb82383bf03",
       "version_major": 2,
       "version_minor": 0
      },
      "text/plain": [
       "  0%|          | 0/3593714 [00:00<?, ?it/s]"
      ]
     },
     "metadata": {},
     "output_type": "display_data"
    },
    {
     "name": "stdout",
     "output_type": "stream",
     "text": [
      "Predictions Complete\n",
      "Training Batch 3...\n",
      "N\t399325\n",
      "P@1\t0.890\n",
      "Training Complete\n",
      "Predicting...\n"
     ]
    },
    {
     "data": {
      "application/vnd.jupyter.widget-view+json": {
       "model_id": "260857ce9d2f4e1782767aa4e104f3cc",
       "version_major": 2,
       "version_minor": 0
      },
      "text/plain": [
       "  0%|          | 0/3593714 [00:00<?, ?it/s]"
      ]
     },
     "metadata": {},
     "output_type": "display_data"
    },
    {
     "name": "stdout",
     "output_type": "stream",
     "text": [
      "Predictions Complete\n",
      "Training Batch 4...\n",
      "N\t399325\n",
      "P@1\t0.891\n",
      "Training Complete\n",
      "Predicting...\n"
     ]
    },
    {
     "data": {
      "application/vnd.jupyter.widget-view+json": {
       "model_id": "7f3685d5f33a4508862938c02af8c8f0",
       "version_major": 2,
       "version_minor": 0
      },
      "text/plain": [
       "  0%|          | 0/3593714 [00:00<?, ?it/s]"
      ]
     },
     "metadata": {},
     "output_type": "display_data"
    },
    {
     "name": "stdout",
     "output_type": "stream",
     "text": [
      "Predictions Complete\n",
      "Training Batch 5...\n",
      "N\t399325\n",
      "P@1\t0.891\n",
      "Training Complete\n",
      "Predicting...\n"
     ]
    },
    {
     "data": {
      "application/vnd.jupyter.widget-view+json": {
       "model_id": "8f06a03249484dad9f6d67d08800e8f9",
       "version_major": 2,
       "version_minor": 0
      },
      "text/plain": [
       "  0%|          | 0/3593714 [00:00<?, ?it/s]"
      ]
     },
     "metadata": {},
     "output_type": "display_data"
    },
    {
     "name": "stdout",
     "output_type": "stream",
     "text": [
      "Predictions Complete\n",
      "Training Batch 6...\n",
      "N\t399325\n",
      "P@1\t0.891\n",
      "Training Complete\n",
      "Predicting...\n"
     ]
    },
    {
     "data": {
      "application/vnd.jupyter.widget-view+json": {
       "model_id": "26fa47db14f44f2daf0f5d3bc228bcb4",
       "version_major": 2,
       "version_minor": 0
      },
      "text/plain": [
       "  0%|          | 0/3593714 [00:00<?, ?it/s]"
      ]
     },
     "metadata": {},
     "output_type": "display_data"
    },
    {
     "name": "stdout",
     "output_type": "stream",
     "text": [
      "Predictions Complete\n",
      "Training Batch 7...\n",
      "N\t399325\n",
      "P@1\t0.891\n",
      "Training Complete\n",
      "Predicting...\n"
     ]
    },
    {
     "data": {
      "application/vnd.jupyter.widget-view+json": {
       "model_id": "9137a6a6b9414657b770d3bebced61e8",
       "version_major": 2,
       "version_minor": 0
      },
      "text/plain": [
       "  0%|          | 0/3593714 [00:00<?, ?it/s]"
      ]
     },
     "metadata": {},
     "output_type": "display_data"
    },
    {
     "name": "stdout",
     "output_type": "stream",
     "text": [
      "Predictions Complete\n",
      "Training Batch 8...\n",
      "N\t399325\n",
      "P@1\t0.891\n",
      "Training Complete\n",
      "[[None, None, None, None, None, None, None, None, None], [None, None, None, None, None, None, None, None, None], [None, None, None, None, None, None, None, None, None]]\n"
     ]
    }
   ],
   "source": [
    "results = list()\n",
    "for i in range(1, 4):\n",
    "    subdir = \"C:\\\\Users\\\\Tegh\\\\fasttext\\\\amazon_reviews\\\\test\" + str(i) + \"\\\\\"\n",
    "    result = AL_fasttext(train_arr, 9, 0.01, subdir + \"AL_train.txt\", pct_del=0.0025)\n",
    "    results.append(result)\n",
    "print(results)"
   ]
  },
  {
   "cell_type": "code",
   "execution_count": 167,
   "id": "0bc2686c",
   "metadata": {},
   "outputs": [
    {
     "name": "stderr",
     "output_type": "stream",
     "text": [
      "c:\\users\\tegh\\appdata\\local\\programs\\python\\python37\\lib\\site-packages\\ipykernel_launcher.py:12: TqdmDeprecationWarning: This function will be removed in tqdm==5.0.0\n",
      "Please use `tqdm.notebook.tqdm` instead of `tqdm.tqdm_notebook`\n",
      "  if sys.path[0] == '':\n"
     ]
    },
    {
     "data": {
      "application/vnd.jupyter.widget-view+json": {
       "model_id": "4d0168e23b36412e80361cc87eb027c4",
       "version_major": 2,
       "version_minor": 0
      },
      "text/plain": [
       "  0%|          | 0/4 [00:00<?, ?it/s]"
      ]
     },
     "metadata": {},
     "output_type": "display_data"
    },
    {
     "name": "stdout",
     "output_type": "stream",
     "text": [
      "Predicting...\n"
     ]
    },
    {
     "name": "stderr",
     "output_type": "stream",
     "text": [
      "c:\\users\\tegh\\appdata\\local\\programs\\python\\python37\\lib\\site-packages\\ipykernel_launcher.py:15: TqdmDeprecationWarning: This function will be removed in tqdm==5.0.0\n",
      "Please use `tqdm.notebook.tqdm` instead of `tqdm.tqdm_notebook`\n",
      "  from ipykernel import kernelapp as app\n"
     ]
    },
    {
     "data": {
      "application/vnd.jupyter.widget-view+json": {
       "model_id": "27c00ce1b2214afba87a7e073466eab9",
       "version_major": 2,
       "version_minor": 0
      },
      "text/plain": [
       "  0%|          | 0/3593714 [00:00<?, ?it/s]"
      ]
     },
     "metadata": {},
     "output_type": "display_data"
    },
    {
     "name": "stdout",
     "output_type": "stream",
     "text": [
      "Predictions Complete\n",
      "Training Batch 0...\n",
      "N\t399325\n",
      "P@1\t0.893\n",
      "Training Complete\n",
      "Predicting...\n"
     ]
    },
    {
     "data": {
      "application/vnd.jupyter.widget-view+json": {
       "model_id": "403aa424a9a14e7c92eb953374bd8bcd",
       "version_major": 2,
       "version_minor": 0
      },
      "text/plain": [
       "  0%|          | 0/3593714 [00:00<?, ?it/s]"
      ]
     },
     "metadata": {},
     "output_type": "display_data"
    },
    {
     "name": "stdout",
     "output_type": "stream",
     "text": [
      "Predictions Complete\n",
      "Training Batch 1...\n",
      "N\t399325\n",
      "P@1\t0.897\n",
      "Training Complete\n",
      "Predicting...\n"
     ]
    },
    {
     "data": {
      "application/vnd.jupyter.widget-view+json": {
       "model_id": "5adf50b07c3444a2b2b798d85525af6e",
       "version_major": 2,
       "version_minor": 0
      },
      "text/plain": [
       "  0%|          | 0/3593714 [00:00<?, ?it/s]"
      ]
     },
     "metadata": {},
     "output_type": "display_data"
    },
    {
     "name": "stdout",
     "output_type": "stream",
     "text": [
      "Predictions Complete\n",
      "Training Batch 2...\n",
      "N\t399325\n",
      "P@1\t0.899\n",
      "Training Complete\n",
      "Predicting...\n"
     ]
    },
    {
     "data": {
      "application/vnd.jupyter.widget-view+json": {
       "model_id": "df7ad73636a549e285db992ed824d4e9",
       "version_major": 2,
       "version_minor": 0
      },
      "text/plain": [
       "  0%|          | 0/3593714 [00:00<?, ?it/s]"
      ]
     },
     "metadata": {},
     "output_type": "display_data"
    },
    {
     "name": "stdout",
     "output_type": "stream",
     "text": [
      "Predictions Complete\n",
      "Training Batch 3...\n",
      "N\t399325\n",
      "P@1\t0.900\n",
      "Training Complete\n"
     ]
    },
    {
     "data": {
      "application/vnd.jupyter.widget-view+json": {
       "model_id": "59af0220c8f044c3ae4de55c55e37cc6",
       "version_major": 2,
       "version_minor": 0
      },
      "text/plain": [
       "  0%|          | 0/4 [00:00<?, ?it/s]"
      ]
     },
     "metadata": {},
     "output_type": "display_data"
    },
    {
     "name": "stdout",
     "output_type": "stream",
     "text": [
      "Predicting...\n"
     ]
    },
    {
     "data": {
      "application/vnd.jupyter.widget-view+json": {
       "model_id": "1e829a48dfcf4cd983a2f0a56ce71bf8",
       "version_major": 2,
       "version_minor": 0
      },
      "text/plain": [
       "  0%|          | 0/3593714 [00:00<?, ?it/s]"
      ]
     },
     "metadata": {},
     "output_type": "display_data"
    },
    {
     "name": "stdout",
     "output_type": "stream",
     "text": [
      "Predictions Complete\n",
      "Training Batch 0...\n",
      "N\t399325\n",
      "P@1\t0.893\n",
      "Training Complete\n",
      "Predicting...\n"
     ]
    },
    {
     "data": {
      "application/vnd.jupyter.widget-view+json": {
       "model_id": "5268463aca86482c9916c831ced33a16",
       "version_major": 2,
       "version_minor": 0
      },
      "text/plain": [
       "  0%|          | 0/3593714 [00:00<?, ?it/s]"
      ]
     },
     "metadata": {},
     "output_type": "display_data"
    },
    {
     "name": "stdout",
     "output_type": "stream",
     "text": [
      "Predictions Complete\n",
      "Training Batch 1...\n",
      "N\t399325\n",
      "P@1\t0.897\n",
      "Training Complete\n",
      "Predicting...\n"
     ]
    },
    {
     "data": {
      "application/vnd.jupyter.widget-view+json": {
       "model_id": "e705b8e5fb184ddea539707b7f82a730",
       "version_major": 2,
       "version_minor": 0
      },
      "text/plain": [
       "  0%|          | 0/3593714 [00:00<?, ?it/s]"
      ]
     },
     "metadata": {},
     "output_type": "display_data"
    },
    {
     "name": "stdout",
     "output_type": "stream",
     "text": [
      "Predictions Complete\n",
      "Training Batch 2...\n",
      "N\t399325\n",
      "P@1\t0.900\n",
      "Training Complete\n",
      "Predicting...\n"
     ]
    },
    {
     "data": {
      "application/vnd.jupyter.widget-view+json": {
       "model_id": "bb965de10c4d4d6e948c449a1709956d",
       "version_major": 2,
       "version_minor": 0
      },
      "text/plain": [
       "  0%|          | 0/3593714 [00:00<?, ?it/s]"
      ]
     },
     "metadata": {},
     "output_type": "display_data"
    },
    {
     "name": "stdout",
     "output_type": "stream",
     "text": [
      "Predictions Complete\n",
      "Training Batch 3...\n",
      "N\t399325\n",
      "P@1\t0.900\n",
      "Training Complete\n"
     ]
    },
    {
     "data": {
      "application/vnd.jupyter.widget-view+json": {
       "model_id": "a261ff8b850a4a6dbe84bfd32fa6a73b",
       "version_major": 2,
       "version_minor": 0
      },
      "text/plain": [
       "  0%|          | 0/4 [00:00<?, ?it/s]"
      ]
     },
     "metadata": {},
     "output_type": "display_data"
    },
    {
     "name": "stdout",
     "output_type": "stream",
     "text": [
      "Predicting...\n"
     ]
    },
    {
     "data": {
      "application/vnd.jupyter.widget-view+json": {
       "model_id": "95fbeeb3a7ff436ba7e00bbc5044d38f",
       "version_major": 2,
       "version_minor": 0
      },
      "text/plain": [
       "  0%|          | 0/3593714 [00:00<?, ?it/s]"
      ]
     },
     "metadata": {},
     "output_type": "display_data"
    },
    {
     "name": "stdout",
     "output_type": "stream",
     "text": [
      "Predictions Complete\n",
      "Training Batch 0...\n",
      "N\t399325\n",
      "P@1\t0.893\n",
      "Training Complete\n",
      "Predicting...\n"
     ]
    },
    {
     "data": {
      "application/vnd.jupyter.widget-view+json": {
       "model_id": "8d4efed4003749e3930db54fbf8b733a",
       "version_major": 2,
       "version_minor": 0
      },
      "text/plain": [
       "  0%|          | 0/3593714 [00:00<?, ?it/s]"
      ]
     },
     "metadata": {},
     "output_type": "display_data"
    },
    {
     "name": "stdout",
     "output_type": "stream",
     "text": [
      "Predictions Complete\n",
      "Training Batch 1...\n",
      "N\t399325\n",
      "P@1\t0.898\n",
      "Training Complete\n",
      "Predicting...\n"
     ]
    },
    {
     "data": {
      "application/vnd.jupyter.widget-view+json": {
       "model_id": "583a7181da1f4feeb3da7c541c806d57",
       "version_major": 2,
       "version_minor": 0
      },
      "text/plain": [
       "  0%|          | 0/3593714 [00:00<?, ?it/s]"
      ]
     },
     "metadata": {},
     "output_type": "display_data"
    },
    {
     "name": "stdout",
     "output_type": "stream",
     "text": [
      "Predictions Complete\n",
      "Training Batch 2...\n",
      "N\t399325\n",
      "P@1\t0.900\n",
      "Training Complete\n",
      "Predicting...\n"
     ]
    },
    {
     "data": {
      "application/vnd.jupyter.widget-view+json": {
       "model_id": "d45e269f15f54933a79086f9340015cd",
       "version_major": 2,
       "version_minor": 0
      },
      "text/plain": [
       "  0%|          | 0/3593714 [00:00<?, ?it/s]"
      ]
     },
     "metadata": {},
     "output_type": "display_data"
    },
    {
     "name": "stdout",
     "output_type": "stream",
     "text": [
      "Predictions Complete\n",
      "Training Batch 3...\n",
      "N\t399325\n",
      "P@1\t0.901\n",
      "Training Complete\n",
      "[[None, None, None, None], [None, None, None, None], [None, None, None, None]]\n"
     ]
    }
   ],
   "source": [
    "results = list()\n",
    "for i in range(4, 7):\n",
    "    subdir = \"C:\\\\Users\\\\Tegh\\\\fasttext\\\\amazon_reviews\\\\test\" + str(i) + \"\\\\\"\n",
    "    result = AL_fasttext(train_arr, 4, 0.02, subdir + \"AL_train.txt\", pct_del=0.005)\n",
    "    results.append(result)\n",
    "print(results)"
   ]
  },
  {
   "cell_type": "code",
   "execution_count": 168,
   "id": "515eefc1",
   "metadata": {
    "scrolled": true
   },
   "outputs": [
    {
     "name": "stderr",
     "output_type": "stream",
     "text": [
      "c:\\users\\tegh\\appdata\\local\\programs\\python\\python37\\lib\\site-packages\\ipykernel_launcher.py:12: TqdmDeprecationWarning: This function will be removed in tqdm==5.0.0\n",
      "Please use `tqdm.notebook.tqdm` instead of `tqdm.tqdm_notebook`\n",
      "  if sys.path[0] == '':\n"
     ]
    },
    {
     "data": {
      "application/vnd.jupyter.widget-view+json": {
       "model_id": "dbd10b4cf9b34e659d73be5df070974a",
       "version_major": 2,
       "version_minor": 0
      },
      "text/plain": [
       "  0%|          | 0/19 [00:00<?, ?it/s]"
      ]
     },
     "metadata": {},
     "output_type": "display_data"
    },
    {
     "name": "stdout",
     "output_type": "stream",
     "text": [
      "Predicting...\n"
     ]
    },
    {
     "name": "stderr",
     "output_type": "stream",
     "text": [
      "c:\\users\\tegh\\appdata\\local\\programs\\python\\python37\\lib\\site-packages\\ipykernel_launcher.py:15: TqdmDeprecationWarning: This function will be removed in tqdm==5.0.0\n",
      "Please use `tqdm.notebook.tqdm` instead of `tqdm.tqdm_notebook`\n",
      "  from ipykernel import kernelapp as app\n"
     ]
    },
    {
     "data": {
      "application/vnd.jupyter.widget-view+json": {
       "model_id": "c362d2a610ce4c3da1f8599a96bbacae",
       "version_major": 2,
       "version_minor": 0
      },
      "text/plain": [
       "  0%|          | 0/3593714 [00:00<?, ?it/s]"
      ]
     },
     "metadata": {},
     "output_type": "display_data"
    },
    {
     "name": "stdout",
     "output_type": "stream",
     "text": [
      "Predictions Complete\n",
      "Training Batch 0...\n",
      "N\t399325\n",
      "P@1\t0.831\n",
      "Training Complete\n",
      "Predicting...\n"
     ]
    },
    {
     "data": {
      "application/vnd.jupyter.widget-view+json": {
       "model_id": "1b6f36ddc4b943a2ab70f70c9eb8aa12",
       "version_major": 2,
       "version_minor": 0
      },
      "text/plain": [
       "  0%|          | 0/3593714 [00:00<?, ?it/s]"
      ]
     },
     "metadata": {},
     "output_type": "display_data"
    },
    {
     "name": "stdout",
     "output_type": "stream",
     "text": [
      "Predictions Complete\n",
      "Training Batch 1...\n",
      "N\t399325\n",
      "P@1\t0.860\n",
      "Training Complete\n",
      "Predicting...\n"
     ]
    },
    {
     "data": {
      "application/vnd.jupyter.widget-view+json": {
       "model_id": "aa871ed429e24800b6321e560f9e8c73",
       "version_major": 2,
       "version_minor": 0
      },
      "text/plain": [
       "  0%|          | 0/3593714 [00:00<?, ?it/s]"
      ]
     },
     "metadata": {},
     "output_type": "display_data"
    },
    {
     "name": "stdout",
     "output_type": "stream",
     "text": [
      "Predictions Complete\n",
      "Training Batch 2...\n",
      "N\t399325\n",
      "P@1\t0.870\n",
      "Training Complete\n",
      "Predicting...\n"
     ]
    },
    {
     "data": {
      "application/vnd.jupyter.widget-view+json": {
       "model_id": "032b65f65b594f6bbc968516a7964cc6",
       "version_major": 2,
       "version_minor": 0
      },
      "text/plain": [
       "  0%|          | 0/3593714 [00:00<?, ?it/s]"
      ]
     },
     "metadata": {},
     "output_type": "display_data"
    },
    {
     "name": "stdout",
     "output_type": "stream",
     "text": [
      "Predictions Complete\n",
      "Training Batch 3...\n",
      "N\t399325\n",
      "P@1\t0.875\n",
      "Training Complete\n",
      "Predicting...\n"
     ]
    },
    {
     "data": {
      "application/vnd.jupyter.widget-view+json": {
       "model_id": "0dcdb3d1c599465897214850f3943f31",
       "version_major": 2,
       "version_minor": 0
      },
      "text/plain": [
       "  0%|          | 0/3593714 [00:00<?, ?it/s]"
      ]
     },
     "metadata": {},
     "output_type": "display_data"
    },
    {
     "name": "stdout",
     "output_type": "stream",
     "text": [
      "Predictions Complete\n",
      "Training Batch 4...\n",
      "N\t399325\n",
      "P@1\t0.877\n",
      "Training Complete\n",
      "Predicting...\n"
     ]
    },
    {
     "data": {
      "application/vnd.jupyter.widget-view+json": {
       "model_id": "9f5599c970104b4f9c04edaa4f78c0cc",
       "version_major": 2,
       "version_minor": 0
      },
      "text/plain": [
       "  0%|          | 0/3593714 [00:00<?, ?it/s]"
      ]
     },
     "metadata": {},
     "output_type": "display_data"
    },
    {
     "name": "stdout",
     "output_type": "stream",
     "text": [
      "Predictions Complete\n",
      "Training Batch 5...\n",
      "N\t399325\n",
      "P@1\t0.879\n",
      "Training Complete\n",
      "Predicting...\n"
     ]
    },
    {
     "data": {
      "application/vnd.jupyter.widget-view+json": {
       "model_id": "0b9aff33b07f4a67b4626df9835c064c",
       "version_major": 2,
       "version_minor": 0
      },
      "text/plain": [
       "  0%|          | 0/3593714 [00:00<?, ?it/s]"
      ]
     },
     "metadata": {},
     "output_type": "display_data"
    },
    {
     "name": "stdout",
     "output_type": "stream",
     "text": [
      "Predictions Complete\n",
      "Training Batch 6...\n",
      "N\t399325\n",
      "P@1\t0.880\n",
      "Training Complete\n",
      "Predicting...\n"
     ]
    },
    {
     "data": {
      "application/vnd.jupyter.widget-view+json": {
       "model_id": "bc8b8d165202430a8c0b694bbb229a09",
       "version_major": 2,
       "version_minor": 0
      },
      "text/plain": [
       "  0%|          | 0/3593714 [00:00<?, ?it/s]"
      ]
     },
     "metadata": {},
     "output_type": "display_data"
    },
    {
     "name": "stdout",
     "output_type": "stream",
     "text": [
      "Predictions Complete\n",
      "Training Batch 7...\n",
      "N\t399325\n",
      "P@1\t0.880\n",
      "Training Complete\n",
      "Predicting...\n"
     ]
    },
    {
     "data": {
      "application/vnd.jupyter.widget-view+json": {
       "model_id": "6ddfdfffef7d4cd7af3fb550bc150991",
       "version_major": 2,
       "version_minor": 0
      },
      "text/plain": [
       "  0%|          | 0/3593714 [00:00<?, ?it/s]"
      ]
     },
     "metadata": {},
     "output_type": "display_data"
    },
    {
     "name": "stdout",
     "output_type": "stream",
     "text": [
      "Predictions Complete\n",
      "Training Batch 8...\n",
      "N\t399325\n",
      "P@1\t0.881\n",
      "Training Complete\n",
      "Predicting...\n"
     ]
    },
    {
     "data": {
      "application/vnd.jupyter.widget-view+json": {
       "model_id": "c15d5ee2275e4996965b1d09aedde7fb",
       "version_major": 2,
       "version_minor": 0
      },
      "text/plain": [
       "  0%|          | 0/3593714 [00:00<?, ?it/s]"
      ]
     },
     "metadata": {},
     "output_type": "display_data"
    },
    {
     "name": "stdout",
     "output_type": "stream",
     "text": [
      "Predictions Complete\n",
      "Training Batch 9...\n",
      "N\t399325\n",
      "P@1\t0.881\n",
      "Training Complete\n",
      "Predicting...\n"
     ]
    },
    {
     "data": {
      "application/vnd.jupyter.widget-view+json": {
       "model_id": "58cca68e72a741fa8a962c3da3ba61d1",
       "version_major": 2,
       "version_minor": 0
      },
      "text/plain": [
       "  0%|          | 0/3593714 [00:00<?, ?it/s]"
      ]
     },
     "metadata": {},
     "output_type": "display_data"
    },
    {
     "name": "stdout",
     "output_type": "stream",
     "text": [
      "Predictions Complete\n",
      "Training Batch 10...\n",
      "N\t399325\n",
      "P@1\t0.880\n",
      "Training Complete\n",
      "Predicting...\n"
     ]
    },
    {
     "data": {
      "application/vnd.jupyter.widget-view+json": {
       "model_id": "fda123ba5da64a6eaf960a460529c5c3",
       "version_major": 2,
       "version_minor": 0
      },
      "text/plain": [
       "  0%|          | 0/3593714 [00:00<?, ?it/s]"
      ]
     },
     "metadata": {},
     "output_type": "display_data"
    },
    {
     "name": "stdout",
     "output_type": "stream",
     "text": [
      "Predictions Complete\n",
      "Training Batch 11...\n",
      "N\t399325\n",
      "P@1\t0.881\n",
      "Training Complete\n",
      "Predicting...\n"
     ]
    },
    {
     "data": {
      "application/vnd.jupyter.widget-view+json": {
       "model_id": "b9442f699e2d482899219b61e9df31d0",
       "version_major": 2,
       "version_minor": 0
      },
      "text/plain": [
       "  0%|          | 0/3593714 [00:00<?, ?it/s]"
      ]
     },
     "metadata": {},
     "output_type": "display_data"
    },
    {
     "name": "stdout",
     "output_type": "stream",
     "text": [
      "Predictions Complete\n",
      "Training Batch 12...\n",
      "N\t399325\n",
      "P@1\t0.881\n",
      "Training Complete\n",
      "Predicting...\n"
     ]
    },
    {
     "data": {
      "application/vnd.jupyter.widget-view+json": {
       "model_id": "042de8073e7c4d0d88c5df7d290038ac",
       "version_major": 2,
       "version_minor": 0
      },
      "text/plain": [
       "  0%|          | 0/3593714 [00:00<?, ?it/s]"
      ]
     },
     "metadata": {},
     "output_type": "display_data"
    },
    {
     "name": "stdout",
     "output_type": "stream",
     "text": [
      "Predictions Complete\n",
      "Training Batch 13...\n",
      "N\t399325\n",
      "P@1\t0.881\n",
      "Training Complete\n",
      "Predicting...\n"
     ]
    },
    {
     "data": {
      "application/vnd.jupyter.widget-view+json": {
       "model_id": "3d2135a9d3d143b99e63769fb0d74bf8",
       "version_major": 2,
       "version_minor": 0
      },
      "text/plain": [
       "  0%|          | 0/3593714 [00:00<?, ?it/s]"
      ]
     },
     "metadata": {},
     "output_type": "display_data"
    },
    {
     "name": "stdout",
     "output_type": "stream",
     "text": [
      "Predictions Complete\n",
      "Training Batch 14...\n",
      "N\t399325\n",
      "P@1\t0.881\n",
      "Training Complete\n",
      "Predicting...\n"
     ]
    },
    {
     "data": {
      "application/vnd.jupyter.widget-view+json": {
       "model_id": "7e0e390554c04bdc9d7c088296905999",
       "version_major": 2,
       "version_minor": 0
      },
      "text/plain": [
       "  0%|          | 0/3593714 [00:00<?, ?it/s]"
      ]
     },
     "metadata": {},
     "output_type": "display_data"
    },
    {
     "name": "stdout",
     "output_type": "stream",
     "text": [
      "Predictions Complete\n",
      "Training Batch 15...\n",
      "N\t399325\n",
      "P@1\t0.881\n",
      "Training Complete\n",
      "Predicting...\n"
     ]
    },
    {
     "data": {
      "application/vnd.jupyter.widget-view+json": {
       "model_id": "f1700b1385074147b3baa5643d8418a1",
       "version_major": 2,
       "version_minor": 0
      },
      "text/plain": [
       "  0%|          | 0/3593714 [00:00<?, ?it/s]"
      ]
     },
     "metadata": {},
     "output_type": "display_data"
    },
    {
     "name": "stdout",
     "output_type": "stream",
     "text": [
      "Predictions Complete\n",
      "Training Batch 16...\n",
      "N\t399325\n",
      "P@1\t0.881\n",
      "Training Complete\n",
      "Predicting...\n"
     ]
    },
    {
     "data": {
      "application/vnd.jupyter.widget-view+json": {
       "model_id": "f3bc9a26364047eb8d8432d23f671c93",
       "version_major": 2,
       "version_minor": 0
      },
      "text/plain": [
       "  0%|          | 0/3593714 [00:00<?, ?it/s]"
      ]
     },
     "metadata": {},
     "output_type": "display_data"
    },
    {
     "name": "stdout",
     "output_type": "stream",
     "text": [
      "Predictions Complete\n",
      "Training Batch 17...\n",
      "N\t399325\n",
      "P@1\t0.881\n",
      "Training Complete\n",
      "Predicting...\n"
     ]
    },
    {
     "data": {
      "application/vnd.jupyter.widget-view+json": {
       "model_id": "6c41bd479e154fdf93c45f7152abad1f",
       "version_major": 2,
       "version_minor": 0
      },
      "text/plain": [
       "  0%|          | 0/3593714 [00:00<?, ?it/s]"
      ]
     },
     "metadata": {},
     "output_type": "display_data"
    },
    {
     "name": "stdout",
     "output_type": "stream",
     "text": [
      "Predictions Complete\n",
      "Training Batch 18...\n",
      "N\t399325\n",
      "P@1\t0.881\n",
      "Training Complete\n"
     ]
    },
    {
     "data": {
      "application/vnd.jupyter.widget-view+json": {
       "model_id": "61afa9cafe694287894ea8ed8405d488",
       "version_major": 2,
       "version_minor": 0
      },
      "text/plain": [
       "  0%|          | 0/19 [00:00<?, ?it/s]"
      ]
     },
     "metadata": {},
     "output_type": "display_data"
    },
    {
     "name": "stdout",
     "output_type": "stream",
     "text": [
      "Predicting...\n"
     ]
    },
    {
     "data": {
      "application/vnd.jupyter.widget-view+json": {
       "model_id": "ac88a07bbce24f738c294652264415a5",
       "version_major": 2,
       "version_minor": 0
      },
      "text/plain": [
       "  0%|          | 0/3593714 [00:00<?, ?it/s]"
      ]
     },
     "metadata": {},
     "output_type": "display_data"
    },
    {
     "name": "stdout",
     "output_type": "stream",
     "text": [
      "Predictions Complete\n",
      "Training Batch 0...\n",
      "N\t399325\n",
      "P@1\t0.825\n",
      "Training Complete\n",
      "Predicting...\n"
     ]
    },
    {
     "data": {
      "application/vnd.jupyter.widget-view+json": {
       "model_id": "8ea680c8f1a047ea84d95a71823eadc4",
       "version_major": 2,
       "version_minor": 0
      },
      "text/plain": [
       "  0%|          | 0/3593714 [00:00<?, ?it/s]"
      ]
     },
     "metadata": {},
     "output_type": "display_data"
    },
    {
     "name": "stdout",
     "output_type": "stream",
     "text": [
      "Predictions Complete\n",
      "Training Batch 1...\n",
      "N\t399325\n",
      "P@1\t0.860\n",
      "Training Complete\n",
      "Predicting...\n"
     ]
    },
    {
     "data": {
      "application/vnd.jupyter.widget-view+json": {
       "model_id": "5d0d12523d4649a69fc7722d528f42f7",
       "version_major": 2,
       "version_minor": 0
      },
      "text/plain": [
       "  0%|          | 0/3593714 [00:00<?, ?it/s]"
      ]
     },
     "metadata": {},
     "output_type": "display_data"
    },
    {
     "name": "stdout",
     "output_type": "stream",
     "text": [
      "Predictions Complete\n",
      "Training Batch 2...\n",
      "N\t399325\n",
      "P@1\t0.870\n",
      "Training Complete\n",
      "Predicting...\n"
     ]
    },
    {
     "data": {
      "application/vnd.jupyter.widget-view+json": {
       "model_id": "34d60f24d1994a50a32c1b09709fcce1",
       "version_major": 2,
       "version_minor": 0
      },
      "text/plain": [
       "  0%|          | 0/3593714 [00:00<?, ?it/s]"
      ]
     },
     "metadata": {},
     "output_type": "display_data"
    },
    {
     "name": "stdout",
     "output_type": "stream",
     "text": [
      "Predictions Complete\n",
      "Training Batch 3...\n",
      "N\t399325\n",
      "P@1\t0.875\n",
      "Training Complete\n",
      "Predicting...\n"
     ]
    },
    {
     "data": {
      "application/vnd.jupyter.widget-view+json": {
       "model_id": "c1a84152078b453b81101a27d65a8c50",
       "version_major": 2,
       "version_minor": 0
      },
      "text/plain": [
       "  0%|          | 0/3593714 [00:00<?, ?it/s]"
      ]
     },
     "metadata": {},
     "output_type": "display_data"
    },
    {
     "name": "stdout",
     "output_type": "stream",
     "text": [
      "Predictions Complete\n",
      "Training Batch 4...\n",
      "N\t399325\n",
      "P@1\t0.878\n",
      "Training Complete\n",
      "Predicting...\n"
     ]
    },
    {
     "data": {
      "application/vnd.jupyter.widget-view+json": {
       "model_id": "23a140230594427aab019bab95628df5",
       "version_major": 2,
       "version_minor": 0
      },
      "text/plain": [
       "  0%|          | 0/3593714 [00:00<?, ?it/s]"
      ]
     },
     "metadata": {},
     "output_type": "display_data"
    },
    {
     "name": "stdout",
     "output_type": "stream",
     "text": [
      "Predictions Complete\n",
      "Training Batch 5...\n",
      "N\t399325\n",
      "P@1\t0.879\n",
      "Training Complete\n",
      "Predicting...\n"
     ]
    },
    {
     "data": {
      "application/vnd.jupyter.widget-view+json": {
       "model_id": "56bb9a96de784d718bf134c3aaa6463d",
       "version_major": 2,
       "version_minor": 0
      },
      "text/plain": [
       "  0%|          | 0/3593714 [00:00<?, ?it/s]"
      ]
     },
     "metadata": {},
     "output_type": "display_data"
    },
    {
     "name": "stdout",
     "output_type": "stream",
     "text": [
      "Predictions Complete\n",
      "Training Batch 6...\n",
      "N\t399325\n",
      "P@1\t0.879\n",
      "Training Complete\n",
      "Predicting...\n"
     ]
    },
    {
     "data": {
      "application/vnd.jupyter.widget-view+json": {
       "model_id": "2184ab414b2a491382575bc7c463f7a9",
       "version_major": 2,
       "version_minor": 0
      },
      "text/plain": [
       "  0%|          | 0/3593714 [00:00<?, ?it/s]"
      ]
     },
     "metadata": {},
     "output_type": "display_data"
    },
    {
     "name": "stdout",
     "output_type": "stream",
     "text": [
      "Predictions Complete\n",
      "Training Batch 7...\n",
      "N\t399325\n",
      "P@1\t0.880\n",
      "Training Complete\n",
      "Predicting...\n"
     ]
    },
    {
     "data": {
      "application/vnd.jupyter.widget-view+json": {
       "model_id": "1b8af2ca0eda4957ac9f98b2886bd22c",
       "version_major": 2,
       "version_minor": 0
      },
      "text/plain": [
       "  0%|          | 0/3593714 [00:00<?, ?it/s]"
      ]
     },
     "metadata": {},
     "output_type": "display_data"
    },
    {
     "name": "stdout",
     "output_type": "stream",
     "text": [
      "Predictions Complete\n",
      "Training Batch 8...\n",
      "N\t399325\n",
      "P@1\t0.880\n",
      "Training Complete\n",
      "Predicting...\n"
     ]
    },
    {
     "data": {
      "application/vnd.jupyter.widget-view+json": {
       "model_id": "f14a21081a9e47c3be17e6b900a63ac5",
       "version_major": 2,
       "version_minor": 0
      },
      "text/plain": [
       "  0%|          | 0/3593714 [00:00<?, ?it/s]"
      ]
     },
     "metadata": {},
     "output_type": "display_data"
    },
    {
     "name": "stdout",
     "output_type": "stream",
     "text": [
      "Predictions Complete\n",
      "Training Batch 9...\n",
      "N\t399325\n",
      "P@1\t0.881\n",
      "Training Complete\n",
      "Predicting...\n"
     ]
    },
    {
     "data": {
      "application/vnd.jupyter.widget-view+json": {
       "model_id": "6ab6c6de79e94f13b4a572d1c1b85386",
       "version_major": 2,
       "version_minor": 0
      },
      "text/plain": [
       "  0%|          | 0/3593714 [00:00<?, ?it/s]"
      ]
     },
     "metadata": {},
     "output_type": "display_data"
    },
    {
     "name": "stdout",
     "output_type": "stream",
     "text": [
      "Predictions Complete\n",
      "Training Batch 10...\n",
      "N\t399325\n",
      "P@1\t0.880\n",
      "Training Complete\n",
      "Predicting...\n"
     ]
    },
    {
     "data": {
      "application/vnd.jupyter.widget-view+json": {
       "model_id": "61b24eaabd3b4a8b94207f05183949f1",
       "version_major": 2,
       "version_minor": 0
      },
      "text/plain": [
       "  0%|          | 0/3593714 [00:00<?, ?it/s]"
      ]
     },
     "metadata": {},
     "output_type": "display_data"
    },
    {
     "name": "stdout",
     "output_type": "stream",
     "text": [
      "Predictions Complete\n",
      "Training Batch 11...\n",
      "N\t399325\n",
      "P@1\t0.881\n",
      "Training Complete\n",
      "Predicting...\n"
     ]
    },
    {
     "data": {
      "application/vnd.jupyter.widget-view+json": {
       "model_id": "63c38e25fadb470c95d9eee741c89c75",
       "version_major": 2,
       "version_minor": 0
      },
      "text/plain": [
       "  0%|          | 0/3593714 [00:00<?, ?it/s]"
      ]
     },
     "metadata": {},
     "output_type": "display_data"
    },
    {
     "name": "stdout",
     "output_type": "stream",
     "text": [
      "Predictions Complete\n",
      "Training Batch 12...\n",
      "N\t399325\n",
      "P@1\t0.881\n",
      "Training Complete\n",
      "Predicting...\n"
     ]
    },
    {
     "data": {
      "application/vnd.jupyter.widget-view+json": {
       "model_id": "f888c03f4cd8494e9dd97d0e81ca7d0c",
       "version_major": 2,
       "version_minor": 0
      },
      "text/plain": [
       "  0%|          | 0/3593714 [00:00<?, ?it/s]"
      ]
     },
     "metadata": {},
     "output_type": "display_data"
    },
    {
     "name": "stdout",
     "output_type": "stream",
     "text": [
      "Predictions Complete\n",
      "Training Batch 13...\n",
      "N\t399325\n",
      "P@1\t0.881\n",
      "Training Complete\n",
      "Predicting...\n"
     ]
    },
    {
     "data": {
      "application/vnd.jupyter.widget-view+json": {
       "model_id": "161f0a1d394b4813b31907ec0f91bf97",
       "version_major": 2,
       "version_minor": 0
      },
      "text/plain": [
       "  0%|          | 0/3593714 [00:00<?, ?it/s]"
      ]
     },
     "metadata": {},
     "output_type": "display_data"
    },
    {
     "name": "stdout",
     "output_type": "stream",
     "text": [
      "Predictions Complete\n",
      "Training Batch 14...\n",
      "N\t399325\n",
      "P@1\t0.881\n",
      "Training Complete\n",
      "Predicting...\n"
     ]
    },
    {
     "data": {
      "application/vnd.jupyter.widget-view+json": {
       "model_id": "115f5932404741e4b5deb676b73f0342",
       "version_major": 2,
       "version_minor": 0
      },
      "text/plain": [
       "  0%|          | 0/3593714 [00:00<?, ?it/s]"
      ]
     },
     "metadata": {},
     "output_type": "display_data"
    },
    {
     "name": "stdout",
     "output_type": "stream",
     "text": [
      "Predictions Complete\n",
      "Training Batch 15...\n",
      "N\t399325\n",
      "P@1\t0.881\n",
      "Training Complete\n",
      "Predicting...\n"
     ]
    },
    {
     "data": {
      "application/vnd.jupyter.widget-view+json": {
       "model_id": "0043fbb7d1204b14b633891bed9e0a15",
       "version_major": 2,
       "version_minor": 0
      },
      "text/plain": [
       "  0%|          | 0/3593714 [00:00<?, ?it/s]"
      ]
     },
     "metadata": {},
     "output_type": "display_data"
    },
    {
     "name": "stdout",
     "output_type": "stream",
     "text": [
      "Predictions Complete\n",
      "Training Batch 16...\n",
      "N\t399325\n",
      "P@1\t0.881\n",
      "Training Complete\n",
      "Predicting...\n"
     ]
    },
    {
     "data": {
      "application/vnd.jupyter.widget-view+json": {
       "model_id": "5d03ba263bde40c5a6097d26cb2b3acb",
       "version_major": 2,
       "version_minor": 0
      },
      "text/plain": [
       "  0%|          | 0/3593714 [00:00<?, ?it/s]"
      ]
     },
     "metadata": {},
     "output_type": "display_data"
    },
    {
     "name": "stdout",
     "output_type": "stream",
     "text": [
      "Predictions Complete\n",
      "Training Batch 17...\n",
      "N\t399325\n",
      "P@1\t0.881\n",
      "Training Complete\n",
      "Predicting...\n"
     ]
    },
    {
     "data": {
      "application/vnd.jupyter.widget-view+json": {
       "model_id": "fe462c5fca194bed9474d70ae8f7c0af",
       "version_major": 2,
       "version_minor": 0
      },
      "text/plain": [
       "  0%|          | 0/3593714 [00:00<?, ?it/s]"
      ]
     },
     "metadata": {},
     "output_type": "display_data"
    },
    {
     "name": "stdout",
     "output_type": "stream",
     "text": [
      "Predictions Complete\n",
      "Training Batch 18...\n",
      "N\t399325\n",
      "P@1\t0.881\n",
      "Training Complete\n"
     ]
    },
    {
     "data": {
      "application/vnd.jupyter.widget-view+json": {
       "model_id": "ad194c56266249249838ac3df881e266",
       "version_major": 2,
       "version_minor": 0
      },
      "text/plain": [
       "  0%|          | 0/19 [00:00<?, ?it/s]"
      ]
     },
     "metadata": {},
     "output_type": "display_data"
    },
    {
     "name": "stdout",
     "output_type": "stream",
     "text": [
      "Predicting...\n"
     ]
    },
    {
     "data": {
      "application/vnd.jupyter.widget-view+json": {
       "model_id": "5eb35a4d95574b7fbc52a76409e5b178",
       "version_major": 2,
       "version_minor": 0
      },
      "text/plain": [
       "  0%|          | 0/3593714 [00:00<?, ?it/s]"
      ]
     },
     "metadata": {},
     "output_type": "display_data"
    },
    {
     "name": "stdout",
     "output_type": "stream",
     "text": [
      "Predictions Complete\n",
      "Training Batch 0...\n",
      "N\t399325\n",
      "P@1\t0.832\n",
      "Training Complete\n",
      "Predicting...\n"
     ]
    },
    {
     "data": {
      "application/vnd.jupyter.widget-view+json": {
       "model_id": "c4acdbd6e7dd45638329346f9aa22528",
       "version_major": 2,
       "version_minor": 0
      },
      "text/plain": [
       "  0%|          | 0/3593714 [00:00<?, ?it/s]"
      ]
     },
     "metadata": {},
     "output_type": "display_data"
    },
    {
     "name": "stdout",
     "output_type": "stream",
     "text": [
      "Predictions Complete\n",
      "Training Batch 1...\n",
      "N\t399325\n",
      "P@1\t0.861\n",
      "Training Complete\n",
      "Predicting...\n"
     ]
    },
    {
     "data": {
      "application/vnd.jupyter.widget-view+json": {
       "model_id": "5cad235427eb4f2989966184865d9c90",
       "version_major": 2,
       "version_minor": 0
      },
      "text/plain": [
       "  0%|          | 0/3593714 [00:00<?, ?it/s]"
      ]
     },
     "metadata": {},
     "output_type": "display_data"
    },
    {
     "name": "stdout",
     "output_type": "stream",
     "text": [
      "Predictions Complete\n",
      "Training Batch 2...\n",
      "N\t399325\n",
      "P@1\t0.870\n",
      "Training Complete\n",
      "Predicting...\n"
     ]
    },
    {
     "data": {
      "application/vnd.jupyter.widget-view+json": {
       "model_id": "4e4def114d2d47dbbf0b92968849ce54",
       "version_major": 2,
       "version_minor": 0
      },
      "text/plain": [
       "  0%|          | 0/3593714 [00:00<?, ?it/s]"
      ]
     },
     "metadata": {},
     "output_type": "display_data"
    },
    {
     "name": "stdout",
     "output_type": "stream",
     "text": [
      "Predictions Complete\n",
      "Training Batch 3...\n",
      "N\t399325\n",
      "P@1\t0.875\n",
      "Training Complete\n",
      "Predicting...\n"
     ]
    },
    {
     "data": {
      "application/vnd.jupyter.widget-view+json": {
       "model_id": "58fa9d8f2690427382ba36335d9001b2",
       "version_major": 2,
       "version_minor": 0
      },
      "text/plain": [
       "  0%|          | 0/3593714 [00:00<?, ?it/s]"
      ]
     },
     "metadata": {},
     "output_type": "display_data"
    },
    {
     "name": "stdout",
     "output_type": "stream",
     "text": [
      "Predictions Complete\n",
      "Training Batch 4...\n",
      "N\t399325\n",
      "P@1\t0.878\n",
      "Training Complete\n",
      "Predicting...\n"
     ]
    },
    {
     "data": {
      "application/vnd.jupyter.widget-view+json": {
       "model_id": "40434a65a6f44dc291d8329e651b93f7",
       "version_major": 2,
       "version_minor": 0
      },
      "text/plain": [
       "  0%|          | 0/3593714 [00:00<?, ?it/s]"
      ]
     },
     "metadata": {},
     "output_type": "display_data"
    },
    {
     "name": "stdout",
     "output_type": "stream",
     "text": [
      "Predictions Complete\n",
      "Training Batch 5...\n",
      "N\t399325\n",
      "P@1\t0.879\n",
      "Training Complete\n",
      "Predicting...\n"
     ]
    },
    {
     "data": {
      "application/vnd.jupyter.widget-view+json": {
       "model_id": "957b8031337e4fd895b8e938a3a92c90",
       "version_major": 2,
       "version_minor": 0
      },
      "text/plain": [
       "  0%|          | 0/3593714 [00:00<?, ?it/s]"
      ]
     },
     "metadata": {},
     "output_type": "display_data"
    },
    {
     "name": "stdout",
     "output_type": "stream",
     "text": [
      "Predictions Complete\n",
      "Training Batch 6...\n",
      "N\t399325\n",
      "P@1\t0.880\n",
      "Training Complete\n",
      "Predicting...\n"
     ]
    },
    {
     "data": {
      "application/vnd.jupyter.widget-view+json": {
       "model_id": "3261ab17eb4d495ba8f7164334fa68e4",
       "version_major": 2,
       "version_minor": 0
      },
      "text/plain": [
       "  0%|          | 0/3593714 [00:00<?, ?it/s]"
      ]
     },
     "metadata": {},
     "output_type": "display_data"
    },
    {
     "name": "stdout",
     "output_type": "stream",
     "text": [
      "Predictions Complete\n",
      "Training Batch 7...\n",
      "N\t399325\n",
      "P@1\t0.880\n",
      "Training Complete\n",
      "Predicting...\n"
     ]
    },
    {
     "data": {
      "application/vnd.jupyter.widget-view+json": {
       "model_id": "ead2a688a35d4ee0aa1905af853c726e",
       "version_major": 2,
       "version_minor": 0
      },
      "text/plain": [
       "  0%|          | 0/3593714 [00:00<?, ?it/s]"
      ]
     },
     "metadata": {},
     "output_type": "display_data"
    },
    {
     "name": "stdout",
     "output_type": "stream",
     "text": [
      "Predictions Complete\n",
      "Training Batch 8...\n",
      "N\t399325\n",
      "P@1\t0.880\n",
      "Training Complete\n",
      "Predicting...\n"
     ]
    },
    {
     "data": {
      "application/vnd.jupyter.widget-view+json": {
       "model_id": "782cb893756245bab5da317199c05deb",
       "version_major": 2,
       "version_minor": 0
      },
      "text/plain": [
       "  0%|          | 0/3593714 [00:00<?, ?it/s]"
      ]
     },
     "metadata": {},
     "output_type": "display_data"
    },
    {
     "name": "stdout",
     "output_type": "stream",
     "text": [
      "Predictions Complete\n",
      "Training Batch 9...\n",
      "N\t399325\n",
      "P@1\t0.880\n",
      "Training Complete\n",
      "Predicting...\n"
     ]
    },
    {
     "data": {
      "application/vnd.jupyter.widget-view+json": {
       "model_id": "82fab2c8e2c64c598a1446595d611370",
       "version_major": 2,
       "version_minor": 0
      },
      "text/plain": [
       "  0%|          | 0/3593714 [00:00<?, ?it/s]"
      ]
     },
     "metadata": {},
     "output_type": "display_data"
    },
    {
     "name": "stdout",
     "output_type": "stream",
     "text": [
      "Predictions Complete\n",
      "Training Batch 10...\n",
      "N\t399325\n",
      "P@1\t0.880\n",
      "Training Complete\n",
      "Predicting...\n"
     ]
    },
    {
     "data": {
      "application/vnd.jupyter.widget-view+json": {
       "model_id": "77fba69c97dc40cb8fa8d0e269c14be7",
       "version_major": 2,
       "version_minor": 0
      },
      "text/plain": [
       "  0%|          | 0/3593714 [00:00<?, ?it/s]"
      ]
     },
     "metadata": {},
     "output_type": "display_data"
    },
    {
     "ename": "KeyboardInterrupt",
     "evalue": "",
     "output_type": "error",
     "traceback": [
      "\u001b[1;31m---------------------------------------------------------------------------\u001b[0m",
      "\u001b[1;31mKeyboardInterrupt\u001b[0m                         Traceback (most recent call last)",
      "\u001b[1;32m<ipython-input-168-ca5afd5907d1>\u001b[0m in \u001b[0;36m<module>\u001b[1;34m\u001b[0m\n\u001b[0;32m      2\u001b[0m \u001b[1;32mfor\u001b[0m \u001b[0mi\u001b[0m \u001b[1;32min\u001b[0m \u001b[0mrange\u001b[0m\u001b[1;33m(\u001b[0m\u001b[1;36m7\u001b[0m\u001b[1;33m,\u001b[0m \u001b[1;36m10\u001b[0m\u001b[1;33m)\u001b[0m\u001b[1;33m:\u001b[0m\u001b[1;33m\u001b[0m\u001b[1;33m\u001b[0m\u001b[0m\n\u001b[0;32m      3\u001b[0m     \u001b[0msubdir\u001b[0m \u001b[1;33m=\u001b[0m \u001b[1;34m\"C:\\\\Users\\\\Tegh\\\\fasttext\\\\amazon_reviews\\\\test\"\u001b[0m \u001b[1;33m+\u001b[0m \u001b[0mstr\u001b[0m\u001b[1;33m(\u001b[0m\u001b[0mi\u001b[0m\u001b[1;33m)\u001b[0m \u001b[1;33m+\u001b[0m \u001b[1;34m\"\\\\\"\u001b[0m\u001b[1;33m\u001b[0m\u001b[1;33m\u001b[0m\u001b[0m\n\u001b[1;32m----> 4\u001b[1;33m     \u001b[0mresult\u001b[0m \u001b[1;33m=\u001b[0m \u001b[0mAL_fasttext\u001b[0m\u001b[1;33m(\u001b[0m\u001b[0mtrain_arr\u001b[0m\u001b[1;33m,\u001b[0m \u001b[1;36m19\u001b[0m\u001b[1;33m,\u001b[0m \u001b[1;36m0.005\u001b[0m\u001b[1;33m,\u001b[0m \u001b[0msubdir\u001b[0m \u001b[1;33m+\u001b[0m \u001b[1;34m\"AL_train.txt\"\u001b[0m\u001b[1;33m,\u001b[0m \u001b[0mpct_del\u001b[0m\u001b[1;33m=\u001b[0m\u001b[1;36m0.001\u001b[0m\u001b[1;33m)\u001b[0m\u001b[1;33m\u001b[0m\u001b[1;33m\u001b[0m\u001b[0m\n\u001b[0m\u001b[0;32m      5\u001b[0m     \u001b[0mresults\u001b[0m\u001b[1;33m.\u001b[0m\u001b[0mappend\u001b[0m\u001b[1;33m(\u001b[0m\u001b[0mresult\u001b[0m\u001b[1;33m)\u001b[0m\u001b[1;33m\u001b[0m\u001b[1;33m\u001b[0m\u001b[0m\n\u001b[0;32m      6\u001b[0m \u001b[0mprint\u001b[0m\u001b[1;33m(\u001b[0m\u001b[0mresults\u001b[0m\u001b[1;33m)\u001b[0m\u001b[1;33m\u001b[0m\u001b[1;33m\u001b[0m\u001b[0m\n",
      "\u001b[1;32m<ipython-input-162-808ebdd565fa>\u001b[0m in \u001b[0;36mAL_fasttext\u001b[1;34m(train_arr, iters, pct_acq, out_dir, metric, pct_del)\u001b[0m\n\u001b[0;32m     14\u001b[0m         \u001b[1;32mif\u001b[0m \u001b[0mmetric\u001b[0m \u001b[1;33m==\u001b[0m \u001b[1;34m'entropy'\u001b[0m\u001b[1;33m:\u001b[0m\u001b[1;33m\u001b[0m\u001b[1;33m\u001b[0m\u001b[0m\n\u001b[0;32m     15\u001b[0m             \u001b[1;32mfor\u001b[0m \u001b[0mdoc\u001b[0m \u001b[1;32min\u001b[0m \u001b[0mtqdm\u001b[0m\u001b[1;33m(\u001b[0m\u001b[0mtrain_arr\u001b[0m\u001b[1;33m)\u001b[0m\u001b[1;33m:\u001b[0m\u001b[1;33m\u001b[0m\u001b[1;33m\u001b[0m\u001b[0m\n\u001b[1;32m---> 16\u001b[1;33m                 \u001b[0mpredictions\u001b[0m \u001b[1;33m=\u001b[0m \u001b[1;33m[\u001b[0m\u001b[0mentropy\u001b[0m\u001b[1;33m(\u001b[0m\u001b[0mmodel\u001b[0m\u001b[1;33m.\u001b[0m\u001b[0mpredict\u001b[0m\u001b[1;33m(\u001b[0m\u001b[0mdoc\u001b[0m\u001b[1;33m[\u001b[0m\u001b[1;36m1\u001b[0m\u001b[1;33m]\u001b[0m\u001b[1;33m,\u001b[0m \u001b[0mk\u001b[0m\u001b[1;33m=\u001b[0m\u001b[1;36m2\u001b[0m\u001b[1;33m)\u001b[0m\u001b[1;33m[\u001b[0m\u001b[1;36m1\u001b[0m\u001b[1;33m]\u001b[0m\u001b[1;33m)\u001b[0m\u001b[1;33m]\u001b[0m\u001b[1;33m\u001b[0m\u001b[1;33m\u001b[0m\u001b[0m\n\u001b[0m\u001b[0;32m     17\u001b[0m         \u001b[1;32melif\u001b[0m \u001b[0mmetric\u001b[0m \u001b[1;33m==\u001b[0m \u001b[1;34m'LC'\u001b[0m\u001b[1;33m:\u001b[0m\u001b[1;33m\u001b[0m\u001b[1;33m\u001b[0m\u001b[0m\n\u001b[0;32m     18\u001b[0m             \u001b[1;32mfor\u001b[0m \u001b[0mdoc\u001b[0m \u001b[1;32min\u001b[0m \u001b[0mtqdm\u001b[0m\u001b[1;33m(\u001b[0m\u001b[0mtrain_arr\u001b[0m\u001b[1;33m)\u001b[0m\u001b[1;33m:\u001b[0m\u001b[1;33m\u001b[0m\u001b[1;33m\u001b[0m\u001b[0m\n",
      "\u001b[1;32mc:\\users\\tegh\\appdata\\local\\programs\\python\\python37\\lib\\site-packages\\fasttext\\FastText.py\u001b[0m in \u001b[0;36mpredict\u001b[1;34m(self, text, k, threshold, on_unicode_error)\u001b[0m\n\u001b[0;32m    185\u001b[0m         \u001b[1;32mreturn\u001b[0m \u001b[0mnp\u001b[0m\u001b[1;33m.\u001b[0m\u001b[0marray\u001b[0m\u001b[1;33m(\u001b[0m\u001b[0mb\u001b[0m\u001b[1;33m)\u001b[0m\u001b[1;33m\u001b[0m\u001b[1;33m\u001b[0m\u001b[0m\n\u001b[0;32m    186\u001b[0m \u001b[1;33m\u001b[0m\u001b[0m\n\u001b[1;32m--> 187\u001b[1;33m     \u001b[1;32mdef\u001b[0m \u001b[0mpredict\u001b[0m\u001b[1;33m(\u001b[0m\u001b[0mself\u001b[0m\u001b[1;33m,\u001b[0m \u001b[0mtext\u001b[0m\u001b[1;33m,\u001b[0m \u001b[0mk\u001b[0m\u001b[1;33m=\u001b[0m\u001b[1;36m1\u001b[0m\u001b[1;33m,\u001b[0m \u001b[0mthreshold\u001b[0m\u001b[1;33m=\u001b[0m\u001b[1;36m0.0\u001b[0m\u001b[1;33m,\u001b[0m \u001b[0mon_unicode_error\u001b[0m\u001b[1;33m=\u001b[0m\u001b[1;34m'strict'\u001b[0m\u001b[1;33m)\u001b[0m\u001b[1;33m:\u001b[0m\u001b[1;33m\u001b[0m\u001b[1;33m\u001b[0m\u001b[0m\n\u001b[0m\u001b[0;32m    188\u001b[0m         \"\"\"\n\u001b[0;32m    189\u001b[0m         \u001b[0mGiven\u001b[0m \u001b[0ma\u001b[0m \u001b[0mstring\u001b[0m\u001b[1;33m,\u001b[0m \u001b[0mget\u001b[0m \u001b[0ma\u001b[0m \u001b[0mlist\u001b[0m \u001b[0mof\u001b[0m \u001b[0mlabels\u001b[0m \u001b[1;32mand\u001b[0m \u001b[0ma\u001b[0m \u001b[0mlist\u001b[0m \u001b[0mof\u001b[0m\u001b[1;33m\u001b[0m\u001b[1;33m\u001b[0m\u001b[0m\n",
      "\u001b[1;31mKeyboardInterrupt\u001b[0m: "
     ]
    }
   ],
   "source": [
    "results = list()\n",
    "for i in range(7, 10):\n",
    "    subdir = \"C:\\\\Users\\\\Tegh\\\\fasttext\\\\amazon_reviews\\\\test\" + str(i) + \"\\\\\"\n",
    "    result = AL_fasttext(train_arr, 19, 0.005, subdir + \"AL_train.txt\", pct_del=0.001)\n",
    "    results.append(result)\n",
    "print(results)"
   ]
  },
  {
   "cell_type": "code",
   "execution_count": 171,
   "id": "01039b34",
   "metadata": {},
   "outputs": [
    {
     "name": "stdout",
     "output_type": "stream",
     "text": [
      "[[0.875, 0.884, 0.888, 0.89, 0.891, 0.892, 0.892, 0.892, 892], [0.875, 0.884, 0.888, 0.89, 0.891, 0.891, 0.891, 0.891, 891], [0.893, 0.897, 0.899, 0.9], [0.893, 0.897, 0.9, 0.9], [0.893, 0.898, 0.9, 0.901], [0.831, 0.86, 0.87, 0.875, 0.877, 0.879, 0.88, 0.88, 0.881, 0.881, 0.881, 0.881, 0.881, 0.881, 0.881, 0.881, 0.881, 0.881, 0.881], [0.825, 0.86, 0.87, 0.875, 0.878, 0.879, 0.879, 0.88, 0.88, 0.881, 0.881, 0.881, 0.881, 0.881, 0.881, 0.881, 0.881, 0.881, 0.881], [0.832, 0.861, 0.87, 0.875, 0.878, 0.879, 0.88, 0.88, 0.88, 0.88, 0.88, 0.88, 0.881, 0.881, 0.881, 0.881, 0.881, 0.881, 0.881]]\n"
     ]
    }
   ],
   "source": [
    "print(results)"
   ]
  },
  {
   "cell_type": "code",
   "execution_count": 2,
   "id": "15498c74",
   "metadata": {},
   "outputs": [],
   "source": [
    "results = [[0.875, 0.884, 0.888, 0.89, 0.891, 0.892, 0.892, 0.892, 892], [0.875, 0.884, 0.888, 0.89, 0.891, 0.891, 0.891, 0.891, 891], [0.893, 0.897, 0.899, 0.9], [0.893, 0.897, 0.9, 0.9], [0.893, 0.898, 0.9, 0.901], [0.831, 0.86, 0.87, 0.875, 0.877, 0.879, 0.88, 0.88, 0.881, 0.881, 0.881, 0.881, 0.881, 0.881, 0.881, 0.881, 0.881, 0.881, 0.881], [0.825, 0.86, 0.87, 0.875, 0.878, 0.879, 0.879, 0.88, 0.88, 0.881, 0.881, 0.881, 0.881, 0.881, 0.881, 0.881, 0.881, 0.881, 0.881], [0.832, 0.861, 0.87, 0.875, 0.878, 0.879, 0.88, 0.88, 0.88, 0.88, 0.88, 0.88, 0.881, 0.881, 0.881, 0.881, 0.881, 0.881, 0.881]]"
   ]
  },
  {
   "cell_type": "code",
   "execution_count": 13,
   "id": "e11dd71b",
   "metadata": {},
   "outputs": [
    {
     "name": "stdout",
     "output_type": "stream",
     "text": [
      "[[0.875, 0.884, 0.888, 0.89, 0.891, 0.892, 0.892, 0.892, 0.892], [0.875, 0.884, 0.888, 0.89, 0.891, 0.891, 0.891, 0.891, 0.891], [0.893, 0.897, 0.899, 0.9], [0.893, 0.897, 0.9, 0.9], [0.893, 0.898, 0.9, 0.901], [0.831, 0.86, 0.87, 0.875, 0.877, 0.879, 0.88, 0.88, 0.881, 0.881, 0.881, 0.881, 0.881, 0.881, 0.881, 0.881, 0.881, 0.881, 0.881], [0.825, 0.86, 0.87, 0.875, 0.878, 0.879, 0.879, 0.88, 0.88, 0.881, 0.881, 0.881, 0.881, 0.881, 0.881, 0.881, 0.881, 0.881, 0.881], [0.832, 0.861, 0.87, 0.875, 0.878, 0.879, 0.88, 0.88, 0.88, 0.88, 0.88, 0.88, 0.881, 0.881, 0.881, 0.881, 0.881, 0.881, 0.881]]\n"
     ]
    }
   ],
   "source": [
    "results[1][8] = 0.891\n",
    "print(results)"
   ]
  },
  {
   "cell_type": "code",
   "execution_count": 14,
   "id": "0a07090b",
   "metadata": {},
   "outputs": [
    {
     "name": "stdout",
     "output_type": "stream",
     "text": [
      "[0.875  0.884  0.888  0.89   0.891  0.8915 0.8915 0.8915 0.8915]\n"
     ]
    }
   ],
   "source": [
    "x = np.zeros(9)\n",
    "for i in range(2):\n",
    "    for j in range(9):\n",
    "        x[j] += results[i][j]\n",
    "for i in range(9):\n",
    "    x[i] /= 2\n",
    "print(x)"
   ]
  },
  {
   "cell_type": "code",
   "execution_count": 16,
   "id": "c684518d",
   "metadata": {},
   "outputs": [
    {
     "name": "stdout",
     "output_type": "stream",
     "text": [
      "[0.893      0.89733333 0.89966667 0.90033333]\n"
     ]
    }
   ],
   "source": [
    "y = np.zeros(4)\n",
    "for i in range(2, 5):\n",
    "    for j in range(4):\n",
    "        y[j] += results[i][j]\n",
    "for i in range(4):\n",
    "    y[i] /= 3\n",
    "print(y)"
   ]
  },
  {
   "cell_type": "code",
   "execution_count": 18,
   "id": "9a9f5e59",
   "metadata": {},
   "outputs": [
    {
     "name": "stdout",
     "output_type": "stream",
     "text": [
      "[0.82933333 0.86033333 0.87       0.875      0.87766667 0.879\n",
      " 0.87966667 0.88       0.88033333 0.88066667 0.88066667 0.88066667\n",
      " 0.881      0.881      0.881      0.881      0.881      0.881\n",
      " 0.881     ]\n"
     ]
    }
   ],
   "source": [
    "z = np.zeros(19)\n",
    "for i in range(5, 8):\n",
    "    for j in range(19):\n",
    "        z[j] += results[i][j]\n",
    "for i in range(19):\n",
    "    z[i] /= 3\n",
    "print(z)"
   ]
  },
  {
   "cell_type": "code",
   "execution_count": 63,
   "id": "68c2512a",
   "metadata": {},
   "outputs": [],
   "source": [
    "random = [0.81, 0.835, 0.847, 0.853, 0.859, 0.862, 0.865, 0.868, 0.87, 0.873, 0.876, 0.878, 0.881, 0.882, 0.882, 0.882, 0.883, 0.883, 0.884]"
   ]
  },
  {
   "cell_type": "code",
   "execution_count": 70,
   "id": "fff38eda",
   "metadata": {},
   "outputs": [
    {
     "data": {
      "text/plain": [
       "<matplotlib.legend.Legend at 0x199282a1488>"
      ]
     },
     "execution_count": 70,
     "metadata": {},
     "output_type": "execute_result"
    },
    {
     "data": {
      "image/png": "[encoded data removed]",
      "text/plain": [
       "<Figure size 432x288 with 1 Axes>"
      ]
     },
     "metadata": {
      "needs_background": "light"
     },
     "output_type": "display_data"
    }
   ],
   "source": [
    "fig, ax = plt.subplots()\n",
    "plt.xlim(0, 0.10)\n",
    "ax.plot([0.01 * i for i in range(2, 11)], x, '--bo', label='0.01')\n",
    "ax.plot([0.02 * i for i in range(2, 6)], y, '--ro', label='0.02') \n",
    "ax.plot([0.005 * i for i in range(2, 21)], z, '--go', label='0.005')\n",
    "ax.plot([0.005 * i for i in range(2, 21)], random, '-yo', label='Random')\n",
    "ax.plot([0,1], [0.9253214799974958, 0.9253214799974958], linestyle='-', label = 'Full Train')\n",
    "plt.xlabel(\"Percentage Data Sampled\")\n",
    "plt.ylabel(\"Precision\")\n",
    "ax.set_title(\"Amazon Polarized Reviews\")\n",
    "ax.legend()"
   ]
  },
  {
   "cell_type": "code",
   "execution_count": 49,
   "id": "38b245f8",
   "metadata": {},
   "outputs": [],
   "source": [
    "f_train = \"C:\\\\Users\\\\Tegh\\\\fasttext\\\\amazon_reviews\\\\out_train.txt\"\n",
    "f_test = \"C:\\\\Users\\\\Tegh\\\\fasttext\\\\amazon_reviews\\\\out_test.txt\"\n",
    "with open(f_train, \"r\") as f:\n",
    "    train_arr = np.array([s.rstrip(\"\\n\").split(\" \", 1) for s in f.readlines()])\n",
    "f.close()"
   ]
  },
  {
   "cell_type": "code",
   "execution_count": 51,
   "id": "2b06cd64",
   "metadata": {},
   "outputs": [],
   "source": [
    "f_test = \"C:\\\\Users\\\\Tegh\\\\fasttext\\\\amazon_reviews\\\\out_test.txt\"\n",
    "\n",
    "def print_results(N, p, r):\n",
    "    print(\"N\\t\" + str(N))\n",
    "    print(\"P@{}\\t{:.3f}\".format(1, p))\n",
    "    return p"
   ]
  },
  {
   "cell_type": "code",
   "execution_count": 73,
   "id": "c8bed9a8",
   "metadata": {},
   "outputs": [],
   "source": [
    "nbdata = [[0.686, 0.5224, 0.538, 0.7392, 0.7732, 0.7902, 0.8032, 0.815, 0.814, 0.8188, 0.8164, 0.8182, 0.8206, 0.8208, 0.8228, 0.824, 0.8264, 0.827, 0.8266, 0.8298],\n",
    "[0.7076, 0.508, 0.6176, 0.7132, 0.7248, 0.802, 0.8124, 0.8136, 0.8222, 0.821, 0.83, 0.8254, 0.8284, 0.8272, 0.8312, 0.8308, 0.8328, 0.8326, 0.8298, 0.8322],\n",
    "[0.6822, 0.5008, 0.7502, 0.7574, 0.7572, 0.7332, 0.7836, 0.804, 0.803, 0.8156, 0.8172, 0.8206, 0.8202, 0.829, 0.8228, 0.8272, 0.8282, 0.8288, 0.828, 0.8284],\n",
    "[0.691, 0.5028, 0.756, 0.7446, 0.7278, 0.7816, 0.8026, 0.8042, 0.8072, 0.8096, 0.8182, 0.8176, 0.8204, 0.8264, 0.8294, 0.828, 0.8258, 0.8274, 0.8304, 0.8334],\n",
    "[0.586, 0.5004, 0.7652, 0.7718, 0.7478, 0.7834, 0.7872, 0.8012, 0.8096, 0.8146, 0.8132, 0.8184, 0.8198, 0.8206, 0.827, 0.8256, 0.8276, 0.826, 0.825, 0.8312],\n",
    "[0.5184, 0.5018, 0.755, 0.7786, 0.7926, 0.7978, 0.8132, 0.815, 0.8084, 0.8186, 0.8138, 0.8208, 0.8244, 0.8238, 0.8282, 0.8304, 0.832, 0.831, 0.8298, 0.83],\n",
    "[0.6394, 0.5004, 0.773, 0.794, 0.78, 0.7824, 0.8074, 0.8104, 0.8106, 0.8168, 0.8162, 0.8208, 0.8146, 0.8224, 0.8246, 0.8232, 0.833, 0.8318, 0.8326, 0.8316],\n",
    "[0.6502, 0.5214, 0.5404, 0.7622, 0.7832, 0.8018, 0.8102, 0.8158, 0.8168, 0.82, 0.8198, 0.8208, 0.823, 0.8212, 0.8272, 0.8332, 0.8304, 0.832, 0.8342, 0.8362],\n",
    "[0.6976, 0.5152, 0.5566, 0.6416, 0.784, 0.7954, 0.8156, 0.8126, 0.8172, 0.8232, 0.8242, 0.8252, 0.8288, 0.8324, 0.8306, 0.8342, 0.8284, 0.8324, 0.833, 0.8344],\n",
    "[0.5182, 0.501, 0.7508, 0.7776, 0.7912, 0.8048, 0.8038, 0.8158, 0.8156, 0.8138, 0.8186, 0.8244, 0.82, 0.8242, 0.8272, 0.8296, 0.8288, 0.8256, 0.8264, 0.8306],\n",
    "[0.7126, 0.639, 0.5036, 0.7894, 0.7814, 0.7962, 0.814, 0.8154, 0.823, 0.8214, 0.827, 0.8252, 0.8248, 0.8258, 0.8282, 0.8268, 0.824, 0.8312, 0.8312, 0.8344],\n",
    "[0.703, 0.7412, 0.6626, 0.5434, 0.735, 0.7888, 0.7998, 0.8156, 0.8198, 0.823, 0.8226, 0.8216, 0.8254, 0.8232, 0.8264, 0.8236, 0.8288, 0.827, 0.8326, 0.8288],\n",
    "[0.6132, 0.5004, 0.7672, 0.7458, 0.712, 0.7754, 0.8032, 0.8154, 0.817, 0.818, 0.818, 0.818, 0.8266, 0.8298, 0.8284, 0.8294, 0.8282, 0.826, 0.8182, 0.829],\n",
    "[0.6622, 0.501, 0.694, 0.6844, 0.7252, 0.793, 0.8036, 0.8064, 0.8148, 0.8126, 0.8254, 0.8244, 0.8232, 0.831, 0.8256, 0.828, 0.8264, 0.8326, 0.829, 0.8342],\n",
    "[0.7032, 0.5042, 0.6356, 0.66, 0.7634, 0.7878, 0.7992, 0.8162, 0.8178, 0.8182, 0.8194, 0.8218, 0.8238, 0.8204, 0.8266, 0.826, 0.8262, 0.8282, 0.8284, 0.8314],\n",
    "[0.7474, 0.5062, 0.7436, 0.7452, 0.783, 0.8074, 0.8246, 0.8274, 0.8364, 0.8372],\n",
    "[0.7714, 0.7862, 0.668, 0.593, 0.7992, 0.8072, 0.8212, 0.8312, 0.835, 0.8388],\n",
    "[0.6106, 0.5002, 0.7726, 0.7806, 0.8082, 0.8104, 0.824, 0.8306, 0.8306, 0.8366],\n",
    "[0.6244, 0.5008, 0.7678, 0.7978, 0.8078, 0.8144, 0.8194, 0.8218, 0.8244, 0.8304],\n",
    "[0.756, 0.652, 0.5424, 0.7692, 0.8104, 0.8184, 0.8226, 0.8286, 0.8352, 0.8422],\n",
    "[0.7342, 0.5222, 0.5892, 0.769, 0.8002, 0.8214, 0.8204, 0.8308, 0.8324, 0.8336],\n",
    "[0.7696, 0.6966, 0.5284, 0.7732, 0.7952, 0.8186, 0.8228, 0.8294, 0.8314, 0.8316],\n",
    "[0.6258, 0.5006, 0.767, 0.7796, 0.791, 0.8152, 0.8222, 0.8208, 0.8238, 0.8258],\n",
    "[0.7488, 0.569, 0.5518, 0.7732, 0.8104, 0.8258, 0.8322, 0.8402, 0.8376, 0.8452],\n",
    "[0.7232, 0.5122, 0.6562, 0.7606, 0.8016, 0.8224, 0.8268, 0.8334, 0.8338, 0.8416],\n",
    "[0.6298, 0.5016, 0.7876, 0.8068, 0.8196, 0.827, 0.8346, 0.8358, 0.841, 0.8364],\n",
    "[0.6718, 0.503, 0.7704, 0.797, 0.8082, 0.8204, 0.826, 0.832, 0.8316, 0.8304],\n",
    "[0.7198, 0.5046, 0.7144, 0.756, 0.783, 0.8246, 0.8264, 0.8284, 0.838, 0.8406],\n",
    "[0.771, 0.7512, 0.5518, 0.7452, 0.7738, 0.8064, 0.8236, 0.8254, 0.8324, 0.8324],\n",
    "[0.7578, 0.5638, 0.5422, 0.798, 0.808, 0.824, 0.8268, 0.8306, 0.8348, 0.8372],\n",
    "[0.7874, 0.6216, 0.6124, 0.8146, 0.8348],\n",
    "[0.7902, 0.8122, 0.8002, 0.7666, 0.774],\n",
    "[0.7832, 0.7198, 0.607, 0.8022, 0.8256],\n",
    "[0.725, 0.519, 0.8028, 0.8134, 0.8308],\n",
    "[0.7792, 0.6564, 0.592, 0.8204, 0.8362],\n",
    "[0.7926, 0.8122, 0.8036, 0.7788, 0.7932],\n",
    "[0.7934, 0.8106, 0.8144, 0.8168, 0.8184],\n",
    "[0.7118, 0.5122, 0.785, 0.8088, 0.8242],\n",
    "[0.7398, 0.533, 0.7592, 0.802, 0.8292],\n",
    "[0.8024, 0.7558, 0.6126, 0.789, 0.8278],\n",
    "[0.7412, 0.525, 0.774, 0.7964, 0.8286],\n",
    "[0.7826, 0.6396, 0.6018, 0.8182, 0.8274],\n",
    "[0.7508, 0.5376, 0.7636, 0.8046, 0.8218],\n",
    "[0.7566, 0.5628, 0.717, 0.7886, 0.8338],\n",
    "[0.7062, 0.5202, 0.7878, 0.8102, 0.8246]]"
   ]
  },
  {
   "cell_type": "code",
   "execution_count": 81,
   "id": "6546a86e",
   "metadata": {},
   "outputs": [],
   "source": [
    "a = np.zeros(9)\n",
    "for i in range(15,30):\n",
    "    for j in range(1,10):\n",
    "        a[j-1] += nbdata[i][j]\n",
    "for i in range(9):\n",
    "    a[i] /= 15"
   ]
  },
  {
   "cell_type": "code",
   "execution_count": 83,
   "id": "7187f5cd",
   "metadata": {},
   "outputs": [],
   "source": [
    "b = np.zeros(19)\n",
    "for i in range(15):\n",
    "    for j in range(1,20):\n",
    "        b[j-1] += nbdata[i][j]\n",
    "for i in range(19):\n",
    "    b[i] /= 15"
   ]
  },
  {
   "cell_type": "code",
   "execution_count": 85,
   "id": "b9b7aa5e",
   "metadata": {},
   "outputs": [],
   "source": [
    "c = np.zeros(4)\n",
    "for i in range(30,45):\n",
    "    for j in range(1,5):\n",
    "        c[j-1] += nbdata[i][j]\n",
    "for i in range(4):\n",
    "    c[i] /= 15"
   ]
  },
  {
   "cell_type": "code",
   "execution_count": 86,
   "id": "6a041d19",
   "metadata": {},
   "outputs": [
    {
     "name": "stdout",
     "output_type": "stream",
     "text": [
      "[0.57134667 0.66356    0.76296    0.79997333 0.81757333 0.82490667\n",
      " 0.82976    0.83322667 0.836     ]\n",
      "[0.53066667 0.67105333 0.72688    0.75858667 0.78758667 0.80393333\n",
      " 0.81177333 0.81446667 0.81768    0.82       0.82154667 0.82293333\n",
      " 0.82521333 0.82708    0.828      0.82846667 0.82930667 0.82901333\n",
      " 0.83170667]\n",
      "[0.63586667 0.72222667 0.80204    0.82202667]\n"
     ]
    }
   ],
   "source": [
    "print(a)\n",
    "print(b)\n",
    "print(c)"
   ]
  },
  {
   "cell_type": "code",
   "execution_count": 89,
   "id": "a0735fd5",
   "metadata": {},
   "outputs": [
    {
     "data": {
      "text/plain": [
       "<matplotlib.legend.Legend at 0x19928452cc8>"
      ]
     },
     "execution_count": 89,
     "metadata": {},
     "output_type": "execute_result"
    },
    {
     "data": {
      "image/png": "[encoded data removed]",
      "text/plain": [
       "<Figure size 432x288 with 1 Axes>"
      ]
     },
     "metadata": {
      "needs_background": "light"
     },
     "output_type": "display_data"
    }
   ],
   "source": [
    "fig2, ax2 = plt.subplots()\n",
    "plt.xlim(0, 0.10)\n",
    "ax2.plot([0.01 * i for i in range(2, 11)], a, '--bo', label='0.01')\n",
    "ax2.plot([0.02 * i for i in range(2, 6)], c, '--ro', label='0.02') \n",
    "ax2.plot([0.005 * i for i in range(2, 21)], b, '--go', label='0.005')\n",
    "# ax2.plot([0.005 * i for i in range(2, 21)],  '-yo', label='Random')\n",
    "ax2.plot([0,1], [0.8546, 0.8546], linestyle='-', label = 'Full Train')\n",
    "plt.xlabel(\"Percentage Data Sampled\")\n",
    "plt.ylabel(\"Precision\")\n",
    "ax2.set_title(\"IMDB Reviews\")\n",
    "ax2.legend()"
   ]
  },
  {
   "cell_type": "code",
   "execution_count": null,
   "id": "6dc5cf7a",
   "metadata": {},
   "outputs": [],
   "source": []
  }
 ],
 "metadata": {
  "kernelspec": {
   "display_name": "Python 3",
   "language": "python",
   "name": "python3"
  },
  "language_info": {
   "codemirror_mode": {
    "name": "ipython",
    "version": 3
   },
   "file_extension": ".py",
   "mimetype": "text/x-python",
   "name": "python",
   "nbconvert_exporter": "python",
   "pygments_lexer": "ipython3",
   "version": "3.7.4"
  }
 },
 "nbformat": 4,
 "nbformat_minor": 5
}
