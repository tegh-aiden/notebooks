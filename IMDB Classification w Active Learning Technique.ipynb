{
 "cells": [
  {
   "cell_type": "code",
   "execution_count": 1,
   "id": "b69f4949",
   "metadata": {},
   "outputs": [],
   "source": [
    "import nltk\n",
    "import pandas as pd\n",
    "import tensorflow as tf\n",
    "import numpy as np\n",
    "import sklearn\n",
    "import langid\n",
    "import matplotlib.pyplot as plt"
   ]
  },
  {
   "cell_type": "code",
   "execution_count": 2,
   "id": "49c2ee18",
   "metadata": {},
   "outputs": [],
   "source": [
    "from nltk.tokenize import word_tokenize\n",
    "from nltk.corpus import stopwords\n",
    "from nltk.stem.snowball import SnowballStemmer\n",
    "from sklearn.naive_bayes import MultinomialNB\n",
    "from sklearn.feature_extraction.text import TfidfVectorizer"
   ]
  },
  {
   "cell_type": "code",
   "execution_count": 3,
   "id": "b5e2f16d",
   "metadata": {},
   "outputs": [
    {
     "name": "stdout",
     "output_type": "stream",
     "text": [
      "50000\n"
     ]
    }
   ],
   "source": [
    "np.warnings.filterwarnings('ignore', category=np.VisibleDeprecationWarning)\n",
    "(x_train, y_train), (x_test, y_test) = tf.keras.datasets.imdb.load_data(num_words = 25000)\n",
    "X = np.concatenate((x_train, x_test))\n",
    "Y = np.concatenate((y_train, y_test))\n",
    "print(len(X))"
   ]
  },
  {
   "cell_type": "code",
   "execution_count": 4,
   "id": "1c32d24e",
   "metadata": {},
   "outputs": [],
   "source": [
    "#Maps i to ith most common word in dataset\n",
    "word_index = tf.keras.datasets.imdb.get_word_index()\n",
    "inverted_word_index = dict((i, word) for (word, i) in word_index.items())"
   ]
  },
  {
   "cell_type": "code",
   "execution_count": 5,
   "id": "365f1c03",
   "metadata": {},
   "outputs": [
    {
     "name": "stdout",
     "output_type": "stream",
     "text": [
      "the\n",
      "\n",
      "the and a of to is br in it i this that was as for with movie but film on not you are his have\n",
      "\n",
      "the and a of to is br in it i this that was as for with movie but film on not you are his have he be one all at by an they who so from like her or just about it's out has if some there what good more when very up no time she even my would which only story really see their had can were me well than we much been bad get will do also into people other first great because how him most don't made its then way make them too could any movies after\n"
     ]
    }
   ],
   "source": [
    "#Print x most frequent words\n",
    "def mostFreq(x):\n",
    "    return \" \".join(inverted_word_index[i] for i in range(1, x+1))\n",
    "\n",
    "print(mostFreq(1), end='\\n\\n')\n",
    "print(mostFreq(25), end='\\n\\n')\n",
    "print(mostFreq(100))"
   ]
  },
  {
   "cell_type": "code",
   "execution_count": 6,
   "id": "660df049",
   "metadata": {},
   "outputs": [
    {
     "name": "stdout",
     "output_type": "stream",
     "text": [
      "22500\n",
      "2500\n"
     ]
    }
   ],
   "source": [
    "#Get 90:10 train-test split while maintaining 50-50 positive-negative ratio\n",
    "df = pd.DataFrame({'X': X, 'Y': Y})\n",
    "df = df.sort_values(by=['Y'])\n",
    "dataset = df.to_numpy()\n",
    "train = np.concatenate((dataset[:22500], dataset[25000:47500]))\n",
    "test = np.concatenate((dataset[22500:25000], dataset[47500:]))\n",
    "print(sum(train[i][1] for i in range(45000)))\n",
    "print(sum(test[i][1] for i in range(5000)))"
   ]
  },
  {
   "cell_type": "code",
   "execution_count": 7,
   "id": "72f53f17",
   "metadata": {},
   "outputs": [],
   "source": [
    "x_train = np.array([[inverted_word_index[word] for word in doc[0]] for doc in train])\n",
    "y_train = np.array([doc[1] for doc in train])\n",
    "x_test = np.array([[inverted_word_index[word] for word in doc[0]] for doc in test])\n",
    "y_test = np.array([doc[1] for doc in test])"
   ]
  },
  {
   "cell_type": "code",
   "execution_count": 8,
   "id": "5d247377",
   "metadata": {},
   "outputs": [],
   "source": [
    "#Stemming, removing stop words, numbers, punctuation\n",
    "stops = set(stopwords.words('english'))\n",
    "stemmer = SnowballStemmer('english')\n",
    "for i in range(len(x_train)):\n",
    "    x_train[i] = \" \".join([stemmer.stem(w) for w in x_train[i] if (w.isalpha() and w not in stops)])\n",
    "for i in range(len(x_test)):\n",
    "    x_test[i] = \" \".join([stemmer.stem(w) for w in x_test[i] if (w.isalpha() and w not in stops)])"
   ]
  },
  {
   "cell_type": "code",
   "execution_count": 9,
   "id": "237695e7",
   "metadata": {},
   "outputs": [],
   "source": [
    "#Build Tf-idf sparse matrix\n",
    "vectorizer = TfidfVectorizer(min_df=2,max_df=0.5,ngram_range=(1,2), max_features = 10000)\n",
    "tfidf_matrix = vectorizer.fit_transform(x_train)\n",
    "vocab = np.array(vectorizer.get_feature_names())"
   ]
  },
  {
   "cell_type": "code",
   "execution_count": 56,
   "id": "03e43c2d",
   "metadata": {},
   "outputs": [],
   "source": [
    "def randSample(docs, targets, pct_acq, pct_del = 0):\n",
    "    n = int((pct_acq + pct_del) * len(docs))\n",
    "    indices = np.random.choice(len(docs), n, replace=False)\n",
    "    X = [docs[i] for i in indices]\n",
    "    Y = [targets[i] for i in indices]\n",
    "    return X, Y\n",
    "\n",
    "def dropout(X, Y, pct_acq, pct_del):\n",
    "    n = int(pct_acq / (pct_acq + pct_del) * len(X))\n",
    "    indices = np.random.choice(len(X), n, replace=False)\n",
    "    X = [X[i] for i in indices]\n",
    "    Y = [Y[i] for i in indices]\n",
    "    return X, Y"
   ]
  },
  {
   "cell_type": "code",
   "execution_count": 57,
   "id": "41259acd",
   "metadata": {},
   "outputs": [],
   "source": [
    "def entropy(y_probs):\n",
    "    return -1.0 * np.sum(y_probs * np.log(y_probs + np.finfo(float).eps)) / np.log(y_probs.size)\n",
    "    \n",
    "def least_confidence(y_probs):\n",
    "    return y_probs.size * (1 - np.nanmax(y_probs)) / (y_probs.size - 1)"
   ]
  },
  {
   "cell_type": "code",
   "execution_count": 62,
   "id": "e23bf5dc",
   "metadata": {},
   "outputs": [],
   "source": [
    "def NB_with_TFIDF(iters, pct_acq, metric, pct_del = 0, features = 10000):\n",
    "    accuracy = list()\n",
    "    X, Y = randSample(x_train, y_train, pct_acq, pct_del)\n",
    "    if pct_del > 0:\n",
    "        X, Y = dropout(X, Y, pct_acq, pct_del)\n",
    "    vectorizer = TfidfVectorizer(min_df=2, max_df=0.5, ngram_range=(1,2), max_features = features)\n",
    "    tfidf_matrix = vectorizer.fit_transform(X)\n",
    "    model = MultinomialNB()\n",
    "    model.fit(tfidf_matrix, Y)\n",
    "    accuracy.append(model.score(vectorizer.transform(x_test), y_test))\n",
    "    y_probs = model.predict_proba(vectorizer.transform(x_train))\n",
    "    del vectorizer\n",
    "    del model\n",
    "    for itr in range(iters):\n",
    "        if metric == 'LC':\n",
    "            uncertainty = pd.DataFrame([least_confidence(y) for y in y_probs]).sort_values(by = 0, ascending = False, axis = 0)\n",
    "        elif metric == 'entropy':\n",
    "            uncertainty = pd.DataFrame([entropy(y) for y in y_probs]).sort_values(by = 0, ascending = False, axis = 0)\n",
    "        n = int((pct_acq + pct_del) * len(x_train))\n",
    "        subX = [x_train[i] for i in uncertainty.iloc[:n].index.tolist()]\n",
    "        subY = [y_train[i] for i in uncertainty.iloc[:n].index.tolist()]\n",
    "        if pct_del > 0:\n",
    "            subX, subY = dropout(subX, subY, pct_acq, pct_del)\n",
    "        X.extend(subX)\n",
    "        Y.extend(subY)\n",
    "        vectorizer = TfidfVectorizer(min_df=2, max_df=0.5, ngram_range=(1,2), max_features = features)\n",
    "        tfidf_matrix = vectorizer.fit_transform(X)\n",
    "        model = MultinomialNB()\n",
    "        model.fit(tfidf_matrix, Y)\n",
    "        score = model.score(vectorizer.transform(x_test), y_test)\n",
    "        accuracy.append(score)\n",
    "        y_probs = model.predict_proba(vectorizer.transform(x_train))\n",
    "        del vectorizer\n",
    "        del model\n",
    "    print(accuracy)\n",
    "    return accuracy"
   ]
  },
  {
   "cell_type": "code",
   "execution_count": 63,
   "id": "0a912f26",
   "metadata": {},
   "outputs": [
    {
     "name": "stdout",
     "output_type": "stream",
     "text": [
      "[0.5706, 0.5004, 0.7146, 0.6934, 0.7632, 0.7998, 0.8042, 0.8104, 0.8252, 0.8224, 0.826, 0.8266, 0.8282, 0.8342, 0.8374, 0.8356, 0.8346, 0.8338, 0.8314, 0.835]\n",
      "[0.5706 0.5004 0.7146 0.6934 0.7632 0.7998 0.8042 0.8104 0.8252 0.8224\n",
      " 0.826  0.8266 0.8282 0.8342 0.8374 0.8356 0.8346 0.8338 0.8314 0.835 ]\n",
      "[0.6978, 0.509, 0.5994, 0.6988, 0.7578, 0.7886, 0.805, 0.8124, 0.8176, 0.8288, 0.8268, 0.826, 0.8304, 0.834, 0.833, 0.8354, 0.8366, 0.8368, 0.8322, 0.8356]\n",
      "[1.2684 1.0094 1.314  1.3922 1.521  1.5884 1.6092 1.6228 1.6428 1.6512\n",
      " 1.6528 1.6526 1.6586 1.6682 1.6704 1.671  1.6712 1.6706 1.6636 1.6706]\n",
      "[0.5222, 0.5014, 0.767, 0.7896, 0.8002, 0.8088, 0.8114, 0.8162, 0.8172, 0.8232, 0.822, 0.8236, 0.8302, 0.8292, 0.8362, 0.8298, 0.8354, 0.8374, 0.838, 0.8382]\n",
      "[1.7906 1.5108 2.081  2.1818 2.3212 2.3972 2.4206 2.439  2.46   2.4744\n",
      " 2.4748 2.4762 2.4888 2.4974 2.5066 2.5008 2.5066 2.508  2.5016 2.5088]\n",
      "0.005\n",
      "0\n",
      "\n",
      "[0.6324, 0.505, 0.668, 0.713, 0.7482, 0.7892, 0.7974, 0.8102, 0.8144, 0.8188, 0.827, 0.8278, 0.8262, 0.829, 0.8298, 0.829, 0.8278, 0.8312, 0.8284, 0.8296]\n",
      "[0.6324 0.505  0.668  0.713  0.7482 0.7892 0.7974 0.8102 0.8144 0.8188\n",
      " 0.827  0.8278 0.8262 0.829  0.8298 0.829  0.8278 0.8312 0.8284 0.8296]\n",
      "[0.718, 0.5194, 0.5984, 0.67, 0.772, 0.7982, 0.8004, 0.8128, 0.8174, 0.8178, 0.821, 0.8258, 0.8248, 0.8284, 0.8272, 0.8334, 0.8388, 0.8326, 0.8326, 0.8358]\n",
      "[1.3504 1.0244 1.2664 1.383  1.5202 1.5874 1.5978 1.623  1.6318 1.6366\n",
      " 1.648  1.6536 1.651  1.6574 1.657  1.6624 1.6666 1.6638 1.661  1.6654]\n",
      "[0.7242, 0.5928, 0.5098, 0.783, 0.798, 0.8058, 0.8078, 0.8092, 0.8174, 0.8204, 0.8206, 0.8208, 0.8208, 0.8244, 0.8192, 0.8228, 0.8254, 0.8298, 0.8316, 0.8334]\n",
      "[2.0746 1.6172 1.7762 2.166  2.3182 2.3932 2.4056 2.4322 2.4492 2.457\n",
      " 2.4686 2.4744 2.4718 2.4818 2.4762 2.4852 2.492  2.4936 2.4926 2.4988]\n",
      "0.005\n",
      "0.0025\n",
      "\n",
      "[0.7306, 0.5732, 0.518, 0.7606, 0.7546, 0.7964, 0.8042, 0.81, 0.8198, 0.8184, 0.8192, 0.822, 0.8284, 0.8286, 0.8316, 0.8298, 0.8284, 0.8258, 0.8288, 0.8306]\n",
      "[0.7306 0.5732 0.518  0.7606 0.7546 0.7964 0.8042 0.81   0.8198 0.8184\n",
      " 0.8192 0.822  0.8284 0.8286 0.8316 0.8298 0.8284 0.8258 0.8288 0.8306]\n",
      "[0.7294, 0.5222, 0.541, 0.7188, 0.7562, 0.793, 0.8126, 0.8138, 0.8234, 0.822, 0.8248, 0.8274, 0.8308, 0.8266, 0.8364, 0.836, 0.831, 0.8328, 0.8382, 0.8388]\n",
      "[1.46   1.0954 1.059  1.4794 1.5108 1.5894 1.6168 1.6238 1.6432 1.6404\n",
      " 1.644  1.6494 1.6592 1.6552 1.668  1.6658 1.6594 1.6586 1.667  1.6694]\n",
      "[0.7332, 0.7312, 0.5606, 0.6316, 0.6972, 0.7728, 0.8136, 0.8086, 0.8122, 0.8116, 0.8128, 0.817, 0.82, 0.8214, 0.8224, 0.827, 0.8286, 0.8272, 0.8314, 0.8314]\n",
      "[2.1932 1.8266 1.6196 2.111  2.208  2.3622 2.4304 2.4324 2.4554 2.452\n",
      " 2.4568 2.4664 2.4792 2.4766 2.4904 2.4928 2.488  2.4858 2.4984 2.5008]\n",
      "0.005\n",
      "0.05\n",
      "\n",
      "[0.584, 0.5028, 0.7632, 0.7966, 0.8148, 0.8154, 0.8228, 0.8312, 0.833, 0.8382]\n",
      "[0.584  0.5028 0.7632 0.7966 0.8148 0.8154 0.8228 0.8312 0.833  0.8382]\n",
      "[0.684, 0.511, 0.7048, 0.766, 0.8026, 0.8164, 0.8238, 0.8272, 0.8312, 0.8368]\n",
      "[1.268  1.0138 1.468  1.5626 1.6174 1.6318 1.6466 1.6584 1.6642 1.675 ]\n",
      "[0.5926, 0.5004, 0.7844, 0.8018, 0.8214, 0.8246, 0.8276, 0.8344, 0.8366, 0.8346]\n",
      "[1.8606 1.5142 2.2524 2.3644 2.4388 2.4564 2.4742 2.4928 2.5008 2.5096]\n",
      "0.01\n",
      "0\n",
      "\n",
      "[0.6484, 0.5026, 0.7654, 0.7954, 0.8062, 0.8148, 0.8164, 0.8202, 0.824, 0.827]\n",
      "[0.6484 0.5026 0.7654 0.7954 0.8062 0.8148 0.8164 0.8202 0.824  0.827 ]\n",
      "[0.6612, 0.5018, 0.767, 0.793, 0.802, 0.8198, 0.8256, 0.8186, 0.8314, 0.8312]\n",
      "[1.3096 1.0044 1.5324 1.5884 1.6082 1.6346 1.642  1.6388 1.6554 1.6582]\n",
      "[0.718, 0.5046, 0.7498, 0.79, 0.804, 0.8238, 0.8318, 0.837, 0.8416, 0.8428]\n",
      "[2.0276 1.509  2.2822 2.3784 2.4122 2.4584 2.4738 2.4758 2.497  2.501 ]\n",
      "0.01\n",
      "0.0025\n",
      "\n"
     ]
    },
    {
     "ename": "KeyboardInterrupt",
     "evalue": "",
     "output_type": "error",
     "traceback": [
      "\u001b[1;31m---------------------------------------------------------------------------\u001b[0m",
      "\u001b[1;31mKeyboardInterrupt\u001b[0m                         Traceback (most recent call last)",
      "\u001b[1;32m<ipython-input-63-6dcc65cdf6ec>\u001b[0m in \u001b[0;36m<module>\u001b[1;34m\u001b[0m\n\u001b[0;32m      9\u001b[0m         \u001b[0mtotal\u001b[0m \u001b[1;33m=\u001b[0m \u001b[0mnp\u001b[0m\u001b[1;33m.\u001b[0m\u001b[0mzeros\u001b[0m\u001b[1;33m(\u001b[0m\u001b[0mn\u001b[0m\u001b[1;33m+\u001b[0m\u001b[1;36m1\u001b[0m\u001b[1;33m)\u001b[0m\u001b[1;33m\u001b[0m\u001b[1;33m\u001b[0m\u001b[0m\n\u001b[0;32m     10\u001b[0m         \u001b[1;32mfor\u001b[0m \u001b[0mi\u001b[0m \u001b[1;32min\u001b[0m \u001b[0mrange\u001b[0m\u001b[1;33m(\u001b[0m\u001b[1;36m3\u001b[0m\u001b[1;33m)\u001b[0m\u001b[1;33m:\u001b[0m\u001b[1;33m\u001b[0m\u001b[1;33m\u001b[0m\u001b[0m\n\u001b[1;32m---> 11\u001b[1;33m             \u001b[0macc\u001b[0m \u001b[1;33m=\u001b[0m \u001b[0mnp\u001b[0m\u001b[1;33m.\u001b[0m\u001b[0marray\u001b[0m\u001b[1;33m(\u001b[0m\u001b[0mNB_with_TFIDF\u001b[0m\u001b[1;33m(\u001b[0m\u001b[0mn\u001b[0m\u001b[1;33m,\u001b[0m \u001b[0mx\u001b[0m\u001b[1;33m,\u001b[0m \u001b[1;34m'LC'\u001b[0m\u001b[1;33m,\u001b[0m \u001b[0my\u001b[0m\u001b[1;33m)\u001b[0m\u001b[1;33m)\u001b[0m\u001b[1;33m\u001b[0m\u001b[1;33m\u001b[0m\u001b[0m\n\u001b[0m\u001b[0;32m     12\u001b[0m             \u001b[0mtotal\u001b[0m \u001b[1;33m+=\u001b[0m \u001b[0macc\u001b[0m\u001b[1;33m\u001b[0m\u001b[1;33m\u001b[0m\u001b[0m\n\u001b[0;32m     13\u001b[0m             \u001b[0mprint\u001b[0m\u001b[1;33m(\u001b[0m\u001b[0mtotal\u001b[0m\u001b[1;33m)\u001b[0m\u001b[1;33m\u001b[0m\u001b[1;33m\u001b[0m\u001b[0m\n",
      "\u001b[1;32m<ipython-input-62-2c870f8d0321>\u001b[0m in \u001b[0;36mNB_with_TFIDF\u001b[1;34m(iters, pct_acq, metric, pct_del, features)\u001b[0m\n\u001b[0;32m     25\u001b[0m         \u001b[0mY\u001b[0m\u001b[1;33m.\u001b[0m\u001b[0mextend\u001b[0m\u001b[1;33m(\u001b[0m\u001b[0msubY\u001b[0m\u001b[1;33m)\u001b[0m\u001b[1;33m\u001b[0m\u001b[1;33m\u001b[0m\u001b[0m\n\u001b[0;32m     26\u001b[0m         \u001b[0mvectorizer\u001b[0m \u001b[1;33m=\u001b[0m \u001b[0mTfidfVectorizer\u001b[0m\u001b[1;33m(\u001b[0m\u001b[0mmin_df\u001b[0m\u001b[1;33m=\u001b[0m\u001b[1;36m2\u001b[0m\u001b[1;33m,\u001b[0m \u001b[0mmax_df\u001b[0m\u001b[1;33m=\u001b[0m\u001b[1;36m0.5\u001b[0m\u001b[1;33m,\u001b[0m \u001b[0mngram_range\u001b[0m\u001b[1;33m=\u001b[0m\u001b[1;33m(\u001b[0m\u001b[1;36m1\u001b[0m\u001b[1;33m,\u001b[0m\u001b[1;36m2\u001b[0m\u001b[1;33m)\u001b[0m\u001b[1;33m,\u001b[0m \u001b[0mmax_features\u001b[0m \u001b[1;33m=\u001b[0m \u001b[0mfeatures\u001b[0m\u001b[1;33m)\u001b[0m\u001b[1;33m\u001b[0m\u001b[1;33m\u001b[0m\u001b[0m\n\u001b[1;32m---> 27\u001b[1;33m         \u001b[0mtfidf_matrix\u001b[0m \u001b[1;33m=\u001b[0m \u001b[0mvectorizer\u001b[0m\u001b[1;33m.\u001b[0m\u001b[0mfit_transform\u001b[0m\u001b[1;33m(\u001b[0m\u001b[0mX\u001b[0m\u001b[1;33m)\u001b[0m\u001b[1;33m\u001b[0m\u001b[1;33m\u001b[0m\u001b[0m\n\u001b[0m\u001b[0;32m     28\u001b[0m         \u001b[0mmodel\u001b[0m \u001b[1;33m=\u001b[0m \u001b[0mMultinomialNB\u001b[0m\u001b[1;33m(\u001b[0m\u001b[1;33m)\u001b[0m\u001b[1;33m\u001b[0m\u001b[1;33m\u001b[0m\u001b[0m\n\u001b[0;32m     29\u001b[0m         \u001b[0mmodel\u001b[0m\u001b[1;33m.\u001b[0m\u001b[0mfit\u001b[0m\u001b[1;33m(\u001b[0m\u001b[0mtfidf_matrix\u001b[0m\u001b[1;33m,\u001b[0m \u001b[0mY\u001b[0m\u001b[1;33m)\u001b[0m\u001b[1;33m\u001b[0m\u001b[1;33m\u001b[0m\u001b[0m\n",
      "\u001b[1;32mc:\\users\\tegh\\appdata\\local\\programs\\python\\python37\\lib\\site-packages\\sklearn\\feature_extraction\\text.py\u001b[0m in \u001b[0;36mfit_transform\u001b[1;34m(self, raw_documents, y)\u001b[0m\n\u001b[0;32m   1844\u001b[0m         \"\"\"\n\u001b[0;32m   1845\u001b[0m         \u001b[0mself\u001b[0m\u001b[1;33m.\u001b[0m\u001b[0m_check_params\u001b[0m\u001b[1;33m(\u001b[0m\u001b[1;33m)\u001b[0m\u001b[1;33m\u001b[0m\u001b[1;33m\u001b[0m\u001b[0m\n\u001b[1;32m-> 1846\u001b[1;33m         \u001b[0mX\u001b[0m \u001b[1;33m=\u001b[0m \u001b[0msuper\u001b[0m\u001b[1;33m(\u001b[0m\u001b[1;33m)\u001b[0m\u001b[1;33m.\u001b[0m\u001b[0mfit_transform\u001b[0m\u001b[1;33m(\u001b[0m\u001b[0mraw_documents\u001b[0m\u001b[1;33m)\u001b[0m\u001b[1;33m\u001b[0m\u001b[1;33m\u001b[0m\u001b[0m\n\u001b[0m\u001b[0;32m   1847\u001b[0m         \u001b[0mself\u001b[0m\u001b[1;33m.\u001b[0m\u001b[0m_tfidf\u001b[0m\u001b[1;33m.\u001b[0m\u001b[0mfit\u001b[0m\u001b[1;33m(\u001b[0m\u001b[0mX\u001b[0m\u001b[1;33m)\u001b[0m\u001b[1;33m\u001b[0m\u001b[1;33m\u001b[0m\u001b[0m\n\u001b[0;32m   1848\u001b[0m         \u001b[1;31m# X is already a transformed view of raw_documents so\u001b[0m\u001b[1;33m\u001b[0m\u001b[1;33m\u001b[0m\u001b[1;33m\u001b[0m\u001b[0m\n",
      "\u001b[1;32mc:\\users\\tegh\\appdata\\local\\programs\\python\\python37\\lib\\site-packages\\sklearn\\feature_extraction\\text.py\u001b[0m in \u001b[0;36mfit_transform\u001b[1;34m(self, raw_documents, y)\u001b[0m\n\u001b[0;32m   1201\u001b[0m \u001b[1;33m\u001b[0m\u001b[0m\n\u001b[0;32m   1202\u001b[0m         vocabulary, X = self._count_vocab(raw_documents,\n\u001b[1;32m-> 1203\u001b[1;33m                                           self.fixed_vocabulary_)\n\u001b[0m\u001b[0;32m   1204\u001b[0m \u001b[1;33m\u001b[0m\u001b[0m\n\u001b[0;32m   1205\u001b[0m         \u001b[1;32mif\u001b[0m \u001b[0mself\u001b[0m\u001b[1;33m.\u001b[0m\u001b[0mbinary\u001b[0m\u001b[1;33m:\u001b[0m\u001b[1;33m\u001b[0m\u001b[1;33m\u001b[0m\u001b[0m\n",
      "\u001b[1;32mc:\\users\\tegh\\appdata\\local\\programs\\python\\python37\\lib\\site-packages\\sklearn\\feature_extraction\\text.py\u001b[0m in \u001b[0;36m_count_vocab\u001b[1;34m(self, raw_documents, fixed_vocab)\u001b[0m\n\u001b[0;32m   1118\u001b[0m                         \u001b[0mfeature_counter\u001b[0m\u001b[1;33m[\u001b[0m\u001b[0mfeature_idx\u001b[0m\u001b[1;33m]\u001b[0m \u001b[1;33m=\u001b[0m \u001b[1;36m1\u001b[0m\u001b[1;33m\u001b[0m\u001b[1;33m\u001b[0m\u001b[0m\n\u001b[0;32m   1119\u001b[0m                     \u001b[1;32melse\u001b[0m\u001b[1;33m:\u001b[0m\u001b[1;33m\u001b[0m\u001b[1;33m\u001b[0m\u001b[0m\n\u001b[1;32m-> 1120\u001b[1;33m                         \u001b[0mfeature_counter\u001b[0m\u001b[1;33m[\u001b[0m\u001b[0mfeature_idx\u001b[0m\u001b[1;33m]\u001b[0m \u001b[1;33m+=\u001b[0m \u001b[1;36m1\u001b[0m\u001b[1;33m\u001b[0m\u001b[1;33m\u001b[0m\u001b[0m\n\u001b[0m\u001b[0;32m   1121\u001b[0m                 \u001b[1;32mexcept\u001b[0m \u001b[0mKeyError\u001b[0m\u001b[1;33m:\u001b[0m\u001b[1;33m\u001b[0m\u001b[1;33m\u001b[0m\u001b[0m\n\u001b[0;32m   1122\u001b[0m                     \u001b[1;31m# Ignore out-of-vocabulary items for fixed_vocab=True\u001b[0m\u001b[1;33m\u001b[0m\u001b[1;33m\u001b[0m\u001b[1;33m\u001b[0m\u001b[0m\n",
      "\u001b[1;31mKeyboardInterrupt\u001b[0m: "
     ]
    }
   ],
   "source": [
    "pct_acq = [0.005, 0.01, 0.02]\n",
    "pct_del = [0, 0.0025, 0.05]\n",
    "\n",
    "trials = list()\n",
    "\n",
    "for x in pct_acq:\n",
    "    for y in pct_del:\n",
    "        n = int(.1/x) - 1\n",
    "        total = np.zeros(n+1)\n",
    "        for i in range(3):\n",
    "            acc = np.array(NB_with_TFIDF(n, x, 'LC', y))\n",
    "            total += acc\n",
    "            print(total)\n",
    "        print(x)\n",
    "        print(y)\n",
    "        trials.append(total)\n",
    "        print()"
   ]
  },
  {
   "cell_type": "code",
   "execution_count": 80,
   "id": "06f1f587",
   "metadata": {},
   "outputs": [],
   "source": [
    "a =[0.7302, 0.6908, 0.5164, 0.7442, 0.744, 0.7736, 0.7922, 0.808, \n",
    "        0.8082, 0.8026, 0.8072, 0.8112, 0.8122, 0.811, 0.8106, 0.8168, 0.8134, 0.819, 0.82, 0.823]\n",
    "b = [2.0746, 1.6172, 1.7762, 2.166,  2.3182, 2.3932, 2.4056, 2.4322, 2.4492, 2.457,\n",
    " 2.4686, 2.4744, 2.4718, 2.4818, 2.4762, 2.4852, 2.492,  2.4936, 2.4926, 2.4988]\n",
    "b = [x/3 for x in b]\n",
    "c = [2.1932, 1.8266, 1.6196, 2.111,  2.208,  2.3622, 2.4304, 2.4324, 2.4554, 2.452, 2.4568, 2.4664, 2.4792, 2.4766, 2.4904, 2.4928, 2.488,  2.4858, 2.4984, 2.5008]\n",
    "c = [x/3 for x in c]"
   ]
  },
  {
   "cell_type": "code",
   "execution_count": 81,
   "id": "3c6b0afc",
   "metadata": {},
   "outputs": [
    {
     "data": {
      "text/plain": [
       "<bound method Axes.legend of <AxesSubplot:title={'center':'Subset Size = 0.005'}>>"
      ]
     },
     "execution_count": 81,
     "metadata": {},
     "output_type": "execute_result"
    },
    {
     "data": {
      "image/png": "[encoded data removed]",
      "text/plain": [
       "<Figure size 432x288 with 1 Axes>"
      ]
     },
     "metadata": {
      "needs_background": "light"
     },
     "output_type": "display_data"
    }
   ],
   "source": [
    "fig, ax = plt.subplots()  # Create a figure and an axes.\n",
    "ax.plot(a, label='(0.005, 0)')  # Plot some data on the axes.\n",
    "ax.plot(b, label='(0.005, 0.0025)')\n",
    "ax.plot(c, label= '(0.005, 0.005)')\n",
    "ax.set_title(\"Subset Size = 0.005\")  # Add a title to the axes.\n",
    "ax.legend"
   ]
  },
  {
   "cell_type": "code",
   "execution_count": 82,
   "id": "04691f61",
   "metadata": {},
   "outputs": [],
   "source": [
    "a = [1.8606, 1.5142, 2.2524, 2.3644, 2.4388, 2.4564, 2.4742, 2.4928, 2.5008, 2.5096]\n",
    "a = [x/3 for x in a]\n",
    "b = [2.0276, 1.509,  2.2822, 2.3784, 2.4122, 2.4584, 2.4738, 2.4758, 2.497,  2.501 ]\n",
    "b = [x/3 for x in b]\n",
    "c = [1.9301, 1.5102, 2.2734, 2.367, 2.4100, 2.46, 2.47, 2.4725, 2.5012, 2.5018]\n",
    "c = [x/3 for x in c]"
   ]
  },
  {
   "cell_type": "code",
   "execution_count": 84,
   "id": "0ccee661",
   "metadata": {},
   "outputs": [
    {
     "data": {
      "text/plain": [
       "<matplotlib.legend.Legend at 0x1d60add3a88>"
      ]
     },
     "execution_count": 84,
     "metadata": {},
     "output_type": "execute_result"
    },
    {
     "data": {
      "image/png": "[encoded data removed]",
      "text/plain": [
       "<Figure size 432x288 with 1 Axes>"
      ]
     },
     "metadata": {
      "needs_background": "light"
     },
     "output_type": "display_data"
    }
   ],
   "source": [
    "fig, ax = plt.subplots()  # Create a figure and an axes.\n",
    "ax.plot(a, label='(0.01, 0)')  # Plot some data on the axes.\n",
    "ax.plot(b, label='(0.01, 0.0025)')\n",
    "ax.plot(c, label= '(0.01, 0.005)')\n",
    "ax.set_title(\"Subset Size = 0.01\")  # Add a title to the axes.\n",
    "ax.legend()"
   ]
  },
  {
   "cell_type": "code",
   "execution_count": 85,
   "id": "3c31078b",
   "metadata": {},
   "outputs": [
    {
     "name": "stdout",
     "output_type": "stream",
     "text": [
      "[0.7918, 0.8012, 0.6968, 0.721, 0.8212, 0.8402]\n"
     ]
    }
   ],
   "source": [
    "accuracy = NB_with_TFIDF(5, .02, 'LC', 0)"
   ]
  },
  {
   "cell_type": "code",
   "execution_count": 86,
   "id": "524f6a14",
   "metadata": {},
   "outputs": [
    {
     "name": "stdout",
     "output_type": "stream",
     "text": [
      "[0.7126, 0.5242, 0.791, 0.8212, 0.83, 0.8364]\n"
     ]
    }
   ],
   "source": [
    "a = accuracy\n",
    "b = NB_with_TFIDF(5, .02, 'LC', 0.005)"
   ]
  },
  {
   "cell_type": "code",
   "execution_count": 87,
   "id": "5d1b4010",
   "metadata": {},
   "outputs": [
    {
     "name": "stdout",
     "output_type": "stream",
     "text": [
      "[0.723, 0.745, 0.6968, 0.781, 0.8212, 0.8402]\n"
     ]
    }
   ],
   "source": [
    "a[0] = 0.723\n",
    "a[1] = 0.745\n",
    "a[3]= 0.781\n",
    "print(a)"
   ]
  },
  {
   "cell_type": "code",
   "execution_count": 88,
   "id": "82217992",
   "metadata": {},
   "outputs": [
    {
     "name": "stdout",
     "output_type": "stream",
     "text": [
      "[0.7956, 0.7456, 0.5744, 0.8114, 0.8334, 0.8382]\n"
     ]
    }
   ],
   "source": [
    "c = NB_with_TFIDF(5, .02, 'LC', 0.0025)"
   ]
  },
  {
   "cell_type": "code",
   "execution_count": 89,
   "id": "2f9b2b07",
   "metadata": {},
   "outputs": [
    {
     "name": "stdout",
     "output_type": "stream",
     "text": [
      "[0.5744, 0.7456, 0.7956, 0.8114, 0.8334, 0.8382]\n"
     ]
    }
   ],
   "source": [
    "c[0] = 0.5744\n",
    "c[2] = 0.7956\n",
    "print(c)"
   ]
  },
  {
   "cell_type": "code",
   "execution_count": 90,
   "id": "a8b8ee0a",
   "metadata": {},
   "outputs": [
    {
     "data": {
      "text/plain": [
       "<matplotlib.legend.Legend at 0x1d61503e7c8>"
      ]
     },
     "execution_count": 90,
     "metadata": {},
     "output_type": "execute_result"
    },
    {
     "data": {
      "image/png": "[encoded data removed]",
      "text/plain": [
       "<Figure size 432x288 with 1 Axes>"
      ]
     },
     "metadata": {
      "needs_background": "light"
     },
     "output_type": "display_data"
    }
   ],
   "source": [
    "fig, ax = plt.subplots()  # Create a figure and an axes.\n",
    "ax.plot(a, label='(0.02, 0)')  # Plot some data on the axes.\n",
    "ax.plot(b, label='(0.02, 0.0025)')\n",
    "ax.plot(c, label= '(0.02, 0.005)')\n",
    "ax.set_title(\"Subset Size = 0.02\")  # Add a title to the axes.\n",
    "ax.legend()"
   ]
  },
  {
   "cell_type": "code",
   "execution_count": null,
   "id": "a4aa5d0d",
   "metadata": {},
   "outputs": [],
   "source": []
  }
 ],
 "metadata": {
  "kernelspec": {
   "display_name": "Python 3",
   "language": "python",
   "name": "python3"
  },
  "language_info": {
   "codemirror_mode": {
    "name": "ipython",
    "version": 3
   },
   "file_extension": ".py",
   "mimetype": "text/x-python",
   "name": "python",
   "nbconvert_exporter": "python",
   "pygments_lexer": "ipython3",
   "version": "3.7.4"
  }
 },
 "nbformat": 4,
 "nbformat_minor": 5
}
