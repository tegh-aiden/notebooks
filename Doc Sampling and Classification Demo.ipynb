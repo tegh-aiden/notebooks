{
 "cells": [
  {
   "cell_type": "code",
   "execution_count": 1,
   "id": "f69c4164",
   "metadata": {},
   "outputs": [],
   "source": [
    "import nltk\n",
    "import pandas as pd\n",
    "import tensorflow as tf\n",
    "import numpy as np\n",
    "import sklearn\n",
    "import langid"
   ]
  },
  {
   "cell_type": "code",
   "execution_count": 2,
   "id": "f6fa30b8",
   "metadata": {},
   "outputs": [],
   "source": [
    "from nltk.tokenize import word_tokenize\n",
    "from nltk.corpus import stopwords\n",
    "from nltk.stem.snowball import SnowballStemmer\n",
    "from sklearn.naive_bayes import MultinomialNB\n",
    "from sklearn.feature_extraction.text import TfidfVectorizer"
   ]
  },
  {
   "cell_type": "code",
   "execution_count": 3,
   "id": "a2cbacb4",
   "metadata": {},
   "outputs": [],
   "source": [
    "df = pd.read_csv(\"C:\\\\Users\\\\Tegh\\\\Documents\\\\TweetData\\\\full-corpus.csv\")\n",
    "corpus = np.array(df['TweetText'])\n",
    "labels = np.array(df['Topic'])"
   ]
  },
  {
   "cell_type": "code",
   "execution_count": 4,
   "id": "1524a6ff",
   "metadata": {},
   "outputs": [
    {
     "name": "stdout",
     "output_type": "stream",
     "text": [
      "English Tweets = 3660\n",
      "Spanish Tweets = 672\n",
      "French Tweets = 205\n"
     ]
    }
   ],
   "source": [
    "langid.set_languages(['en','es','fr','pt','nl','it','de'])  # ISO 639-1 codes\n",
    "codeDict = {'en' : 'english','es' : 'spanish','fr' : 'french','pt' : 'portuguese',\n",
    "            'nl' : 'dutch','it' : 'italian','de' : 'german'}\n",
    "\n",
    "langArr = np.array([codeDict[langid.classify(doc)[0]] for doc in corpus])\n",
    "\n",
    "print('English Tweets = ' + str((langArr == 'english').sum()))\n",
    "print('Spanish Tweets = ' + str((langArr == 'spanish').sum()))\n",
    "print('French Tweets = ' + str((langArr == 'french').sum()))"
   ]
  },
  {
   "cell_type": "code",
   "execution_count": 5,
   "id": "8e62f874",
   "metadata": {},
   "outputs": [],
   "source": [
    "#Tokenize words\n",
    "corpus = [word_tokenize(doc) for doc in corpus]"
   ]
  },
  {
   "cell_type": "code",
   "execution_count": 6,
   "id": "91aaeb3d",
   "metadata": {},
   "outputs": [],
   "source": [
    "#Stemming, removing stop words, numbers, punctuation\n",
    "for lang in codeDict.values():\n",
    "    stops = set(stopwords.words(lang))\n",
    "    stemmer = SnowballStemmer(lang)\n",
    "    for index in np.where(langArr == lang)[0]:\n",
    "        corpus[index] = \" \".join([stemmer.stem(w) for w in corpus[index] if (w.isalpha() and w not in stops)])"
   ]
  },
  {
   "cell_type": "code",
   "execution_count": 43,
   "id": "0496bd61",
   "metadata": {},
   "outputs": [],
   "source": [
    "#Build Tf-idf sparse matrix\n",
    "vectorizer = TfidfVectorizer(min_df=2,max_df=0.5,ngram_range=(1,2), max_features = 1000)\n",
    "tfidf_matrix = vectorizer.fit_transform(corpus)\n",
    "vocab = np.array(vectorizer.get_feature_names())"
   ]
  },
  {
   "cell_type": "code",
   "execution_count": 44,
   "id": "93e93108",
   "metadata": {},
   "outputs": [
    {
     "name": "stdout",
     "output_type": "stream",
     "text": [
      "['acab' 'access' 'account' 'activ' 'actual' 'ad' 'add' 'addict' 'advertis'\n",
      " 'age' 'age year' 'agre' 'ah' 'ahor' 'ai' 'all' 'allow' 'alreadi' 'also'\n",
      " 'alway' 'amaz' 'amazon' 'amig' 'an' 'analyt' 'and' 'andro' 'android'\n",
      " 'android beam' 'android galaxi' 'android googl' 'android http'\n",
      " 'android ic' 'android ice' 'android icecreamsandwich' 'android microsoft'\n",
      " 'android phone' 'android samsung' 'announc' 'announc android' 'anoth'\n",
      " 'anyon' 'aplic' 'app' 'app http' 'app store' 'appar' 'appl' 'appl appl'\n",
      " 'appl eclips' 'appl googl' 'appl http' 'appl io' 'appl iphon' 'appl ipod'\n",
      " 'appl microsoft' 'appl pleas' 'appl siri' 'appl store' 'appl thank'\n",
      " 'apple' 'appli' 'appsens' 'aqu' 'are' 'articl' 'as' 'asia' 'asia googl'\n",
      " 'asiaclassifiedtoday' 'ask' 'ass' 'at' 'att' 'autopilot' 'autopilot let'\n",
      " 'avail' 'away' 'awesom' 'azur' 'babi' 'babi memori' 'back' 'bad' 'ballm'\n",
      " 'ballmer' 'bar' 'batteri' 'be' 'beam' 'beat' 'bed' 'best' 'better' 'bien'\n",
      " 'big' 'bill' 'billion' 'bing' 'bitch' 'blackberri' 'blog' 'blue' 'book'\n",
      " 'bookcas' 'bookcas http' 'bought' 'break' 'bring' 'buen' 'buen noch'\n",
      " 'build' 'busi' 'but' 'button' 'buy' 'buy yahoo' 'buzz' 'buzz build' 'by'\n",
      " 'bye' 'ca' 'call' 'camera' 'can' 'cant' 'card' 'care' 'carrier' 'cas'\n",
      " 'case' 'caus' 'cc' 'celebr' 'center' 'ceo' 'ceo steve' 'chang' 'chart'\n",
      " 'chat' 'check' 'click' 'client' 'cloud' 'cloud microsoft' 'cnet' 'com'\n",
      " 'come' 'compani' 'compil' 'complet' 'compr' 'comput' 'comput scientist'\n",
      " 'confirm' 'connect' 'conoc' 'consid' 'cont' 'cont http' 'contact'\n",
      " 'control' 'cool' 'copi' 'cos' 'could' 'crash' 'cre' 'cream'\n",
      " 'cream sandwich' 'creat' 'cualqui' 'cualqui superfici' 'cuent' 'custom'\n",
      " 'custom servic' 'da' 'damn' 'dark' 'dat' 'data' 'day' 'day hour' 'de'\n",
      " 'deal' 'dear' 'dear appl' 'default' 'dej' 'der' 'desarroll' 'design'\n",
      " 'detail' 'detik' 'develop' 'devic' 'dhilipsiva' 'dia' 'dic' 'did' 'die'\n",
      " 'differ' 'digit' 'digit bookcas' 'direct' 'disappoint' 'do' 'doc' 'done'\n",
      " 'dont' 'dorm' 'download' 'droid' 'drop' 'ebook' 'ebook http' 'eclips'\n",
      " 'eclips microsoft' 'educ' 'el' 'els' 'email' 'en' 'encrypt'\n",
      " 'encrypt search' 'end' 'engag' 'enterpris' 'es' 'even' 'event' 'ever'\n",
      " 'everi' 'everybodi' 'everyon' 'everyth' 'excel' 'experi' 'explain' 'face'\n",
      " 'facebook' 'facebook googl' 'facebook twitter' 'facial' 'fact' 'fail'\n",
      " 'famili' 'fan' 'far' 'fast' 'fb' 'featur' 'feel' 'ff' 'ff ifb' 'fic'\n",
      " 'file' 'final' 'find' 'find http' 'first' 'fix' 'fn' 'fn followfriday'\n",
      " 'follow' 'follow http' 'follow twitter' 'followfriday' 'followfriday ff'\n",
      " 'followm' 'follownow' 'follownow fn' 'for' 'forb' 'fot' 'four' 'free'\n",
      " 'free window' 'friend' 'fuck' 'full' 'fun' 'function' 'funni' 'futur'\n",
      " 'gain' 'gain follow' 'galaxi' 'galaxi nexus' 'galaxy' 'galaxy nexus'\n",
      " 'galaxynexus' 'galaxynexus googl' 'game' 'gan' 'gat' 'gate' 'geek'\n",
      " 'genius' 'genius bar' 'gent' 'get' 'get pamper' 'give' 'glad' 'global'\n",
      " 'gmail' 'go' 'go http' 'goe' 'gon' 'gon na' 'gone' 'good' 'goodnight'\n",
      " 'goodnight twitter' 'googl' 'googl ad' 'googl amazon' 'googl android'\n",
      " 'googl announc' 'googl appl' 'googl facebook' 'googl galaxy'\n",
      " 'googl galaxynexus' 'googl googl' 'googl http' 'googl ic' 'googl ice'\n",
      " 'googl icecreamsandwich' 'googl microsoft' 'googl nexus'\n",
      " 'googl nexusprim' 'googl releas' 'googl samsung' 'googl teamfollowback'\n",
      " 'googl unveil' 'googleplus' 'googleplus googl' 'got' 'gplus'\n",
      " 'gplus googleplus' 'graci' 'great' 'great tech' 'gt' 'gt http' 'guardian'\n",
      " 'guess' 'guy' 'ha' 'hac' 'hack' 'had' 'haha' 'half' 'hand' 'happen'\n",
      " 'happi' 'hard' 'hate' 'have' 'hear' 'hell' 'hello' 'hello world' 'help'\n",
      " 'here' 'hey' 'hey appl' 'hold' 'home' 'hong' 'hong kong' 'hope' 'hour'\n",
      " 'hour minut' 'how' 'how appl' 'hoy' 'hp' 'http' 'http android'\n",
      " 'http appl' 'http asia' 'http dhilipsiva' 'http googl' 'http gplus'\n",
      " 'http http' 'http microsoft' 'http neowin' 'http pampershelloapp'\n",
      " 'http tcn' 'http teamfollowback' 'http tech' 'http twitter'\n",
      " 'http twittertim' 'http via' 'http wikileak' 'ic' 'ic googl' 'ice'\n",
      " 'ice cream' 'icecream' 'icecreamsandwich' 'icecreamsandwich http'\n",
      " 'icecreamsandwich samsung' 'icloud' 'ics' 'ie' 'if' 'ifb' 'im' 'imessag'\n",
      " 'import' 'impress' 'improv' 'in' 'includ' 'infinit' 'infinit digit'\n",
      " 'info' 'inform' 'innov' 'instal' 'instead' 'integr' 'interest' 'interfac'\n",
      " 'internet' 'introduc' 'io' 'ios' 'ipad' 'iphon' 'iphon appl' 'iphon http'\n",
      " 'ipod' 'ipod touch' 'is' 'issu' 'it' 'it free' 'itun' 'jaj' 'jajaj'\n",
      " 'jajajaj' 'job' 'join' 'just' 'keep' 'key' 'keyboard' 'kid' 'kill'\n",
      " 'kinect' 'know' 'kong' 'la' 'lanz' 'lanz siti' 'last' 'launch' 'le'\n",
      " 'learn' 'let' 'let gain' 'life' 'like' 'line' 'link' 'linux' 'lion'\n",
      " 'list' 'littl' 'live' 'lleg' 'lmao' 'lo' 'lock' 'log' 'lol' 'long' 'look'\n",
      " 'look like' 'look new' 'los' 'lose' 'lost' 'lot' 'love' 'lt' 'lucki'\n",
      " 'lync' 'mac' 'macbook' 'made' 'mail' 'make' 'man' 'manag' 'mango' 'mani'\n",
      " 'market' 'mas' 'mashabl' 'mayb' 'mañan' 'me' 'media' 'mejor' 'memori'\n",
      " 'memori app' 'men' 'mention' 'messag' 'metro' 'mf' 'mf follownow' 'mi'\n",
      " 'microsoft' 'microsoft azur' 'microsoft ballmer' 'microsoft bing'\n",
      " 'microsoft ceo' 'microsoft cloud' 'microsoft http' 'microsoft kinect'\n",
      " 'microsoft lanz' 'microsoft lync' 'microsoft offic' 'microsoft omnitouch'\n",
      " 'microsoft open' 'microsoft research' 'microsoft sharepoint'\n",
      " 'microsoft steveballm' 'microsoft store' 'microsoft test'\n",
      " 'microsoft window' 'microsoft windowsphon' 'might' 'million'\n",
      " 'million iphon' 'min' 'mind' 'minut' 'minut second' 'miss' 'mobil'\n",
      " 'model' 'moment' 'month' 'more' 'motorola' 'mous' 'move' 'movement'\n",
      " 'movement chart' 'ms' 'msft' 'msn' 'much' 'music' 'must' 'mustfollow'\n",
      " 'mustfollow mf' 'my' 'my twitter' 'na' 'name' 'need' 'neowin' 'net'\n",
      " 'network' 'never' 'new' 'new android' 'new featur' 'new galaxi'\n",
      " 'new iphon' 'new phone' 'news' 'newsstand' 'next' 'next week' 'nexus'\n",
      " 'nexus android' 'nexus googl' 'nexus http' 'nexus ice' 'nexus samsung'\n",
      " 'nexusprim' 'nfc' 'nice' 'nigga' 'night' 'night twitter' 'no' 'noch'\n",
      " 'nokia' 'nokia microsoft' 'not' 'not buy' 'note' 'noth' 'notif' 'nouvel'\n",
      " 'nov' 'novemb' 'now' 'nuev' 'number' 'of' 'off' 'offer' 'offer free'\n",
      " 'offic' 'offici' 'oficial' 'oficial skype' 'oh' 'ok' 'old' 'omnitouch'\n",
      " 'on' 'on go' 'on twitter' 'one' 'onlin' 'open' 'or' 'os' 'outlook' 'page'\n",
      " 'pamper' 'pamper hello' 'pampershelloapp' 'pantall' 'par' 'part'\n",
      " 'partner' 'pas' 'patent' 'pay' 'pc' 'pdf' 'pdf ebook' 'peopl' 'per'\n",
      " 'person' 'phon' 'phone' 'phone devic' 'phone http' 'phone it'\n",
      " 'phone mango' 'photo' 'pictur' 'plan' 'platform' 'play' 'pleas' 'plus'\n",
      " 'point' 'pon' 'post' 'power' 'powerpoint' 'ppl' 'pra' 'present' 'pretti'\n",
      " 'preview' 'prim' 'pro' 'problem' 'product' 'project' 'promis' 'promo'\n",
      " 'prove' 'public' 'pued' 'pull' 'purchas' 'put' 'put twitter' 'qe' 'que'\n",
      " 'quer' 'quick' 'quier' 'quot' 'read' 'real' 'realli' 'recognit' 'regist'\n",
      " 'releas' 'replac' 'report' 'research' 'restor' 'result' 'retail'\n",
      " 'retweet' 'reveal' 'revenu' 'review' 'right' 'rim' 'roslyn' 'rt' 'rt rt'\n",
      " 'rt twandroid' 'rule' 'rumor' 'run' 'sab' 'said' 'sale' 'samsung'\n",
      " 'samsung galaxi' 'samsung galaxy' 'samsung googl' 'san' 'sandwich'\n",
      " 'sandwich android' 'sandwich galaxi' 'sandwich googl' 'sandwich http'\n",
      " 'save' 'say' 'scientist' 'screen' 'screen http' 'sdk' 'sdk avail' 'se'\n",
      " 'search' 'search http' 'second' 'second find' 'secur' 'see' 'seem' 'seen'\n",
      " 'sell' 'send' 'seo' 'ser' 'serious' 'serv' 'server' 'servic' 'set'\n",
      " 'share' 'sharepoint' 'she' 'shit' 'should' 'show' 'si' 'sig' 'sign'\n",
      " 'simpl' 'simpli' 'sinc' 'siri' 'sit' 'site' 'siti' 'siti oficial' 'skype'\n",
      " 'skype http' 'sleep' 'slow' 'smartphon' 'smau' 'so' 'social'\n",
      " 'socialmedia' 'socialnetwork' 'softwar' 'sol' 'sold' 'solut' 'someon'\n",
      " 'someth' 'sometim' 'sometim you' 'soni' 'soon' 'sorri' 'sound' 'sourc'\n",
      " 'spec' 'speech' 'spend' 'sprint' 'stand' 'start' 'stay' 'step' 'stev'\n",
      " 'steve' 'steve ballmer' 'steve job' 'steveballm' 'steveballm http'\n",
      " 'stevejob' 'still' 'stop' 'store' 'store http' 'strategi' 'street'\n",
      " 'stuff' 'success' 'suck' 'summit' 'superfici' 'support' 'sure' 'surfac'\n",
      " 'sync' 'system' 'ta' 'tablet' 'tactil' 'take' 'talk' 'tan' 'tcn' 'team'\n",
      " 'teamfollowback' 'teamfollowback socialnetwork' 'teamfollowback tfb'\n",
      " 'teamfollowback twitter' 'tech' 'tech war' 'technolog' 'tecnolog'\n",
      " 'tecnologi' 'telefon' 'telegraph' 'tell' 'test' 'text' 'tfb'\n",
      " 'tfb mustfollow' 'thank' 'thank appl' 'that' 'the' 'the new' 'they'\n",
      " 'thing' 'think' 'this' 'though' 'thought' 'thx' 'tiemp' 'time' 'tip'\n",
      " 'tire' 'to' 'tod' 'today' 'told' 'tomorrow' 'tonight' 'too' 'tool' 'top'\n",
      " 'total' 'touch' 'touch get' 'touchscreen' 'touchscreen http' 'tout'\n",
      " 'train' 'tres' 'tri' 'tt' 'turn' 'tv' 'twandroid' 'tweet' 'twidroyd'\n",
      " 'twidroyd twitter' 'twitt' 'twitt facebook' 'twitt off' 'twitter'\n",
      " 'twitter age' 'twitter android' 'twitter autopilot' 'twitter buzz'\n",
      " 'twitter facebook' 'twitter follow' 'twitter http' 'twitter off'\n",
      " 'twittertim' 'two' 'ui' 'ultim' 'un' 'unlock' 'unveil' 'unwrap'\n",
      " 'unwrap ice' 'up' 'updat' 'updat android' 'upgrad' 'ur' 'us' 'usag' 'use'\n",
      " 'use twitter' 'user' 'va' 'vend' 'ver' 'verizon' 'version' 'vez' 'vi'\n",
      " 'via' 'vid' 'vide' 'video' 'video http' 'virtual' 'voic' 'voy' 'vs'\n",
      " 'wait' 'wall' 'wan' 'wan na' 'want' 'war' 'watch' 'way' 'we' 'web'\n",
      " 'webgl' 'websit' 'week' 'weekend' 'welcom' 'well' 'went' 'what' 'when'\n",
      " 'where' 'whi' 'white' 'who' 'wikileak' 'will' 'win' 'win appl' 'window'\n",
      " 'window phone' 'windows' 'windowsphon' 'wish' 'wit' 'with' 'without' 'wo'\n",
      " 'wonder' 'word' 'work' 'world' 'world babi' 'would' 'wow' 'wtf' 'xbox'\n",
      " 'xd' 'ya' 'yahoo' 'yahoo http' 'yahoo sometim' 'yeah' 'year' 'year day'\n",
      " 'yes' 'yet' 'yo' 'you' 'you lucki' 'your' 'youtub' 'من']\n"
     ]
    }
   ],
   "source": [
    "#Build Naive Bayes Classifier\n",
    "classifier = GaussianNB"
   ]
  }
 ],
 "metadata": {
  "kernelspec": {
   "display_name": "Python 3",
   "language": "python",
   "name": "python3"
  },
  "language_info": {
   "codemirror_mode": {
    "name": "ipython",
    "version": 3
   },
   "file_extension": ".py",
   "mimetype": "text/x-python",
   "name": "python",
   "nbconvert_exporter": "python",
   "pygments_lexer": "ipython3",
   "version": "3.7.4"
  }
 },
 "nbformat": 4,
 "nbformat_minor": 5
}
